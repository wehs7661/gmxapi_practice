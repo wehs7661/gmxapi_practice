{
 "cells": [
  {
   "cell_type": "markdown",
   "metadata": {},
   "source": [
    "# `gmxapi` Practice\n",
    "In this notebook, our goal is to use `gmxapi` to run a standard MD simulation, an expanded ensemble simulaiton, and a 1D alchemical metadynamics simulation. Note that before running this notebook, one should first load in GROMACS and activate corresponding virtual environment as needed. Delete the folders like `standard_MD`, `EE`, `lambda_MetaD`, and `gmxapi.commadline.cli*_i0` if they exist. These folders will be generated later along the way. Notably, the examples set up in this notebooks are demonstrating the usage of `gmxapi` with GROMACS only running with thread-MPI. "
   ]
  },
  {
   "cell_type": "code",
   "execution_count": 1,
   "metadata": {},
   "outputs": [],
   "source": [
    "import sys\n",
    "sys.path.append('/home/wei-tse/gmxapi_21.4/lib/python3.7/site-packages')  # might not be necessary; change the path as needed\n",
    "import gmxapi as gmx"
   ]
  },
  {
   "cell_type": "markdown",
   "metadata": {},
   "source": [
    "## Section 1. Running a standard MD simulation using `gmxapi`"
   ]
  },
  {
   "cell_type": "markdown",
   "metadata": {},
   "source": [
    "To get started, we set up the directories as below:"
   ]
  },
  {
   "cell_type": "code",
   "execution_count": 2,
   "metadata": {},
   "outputs": [],
   "source": [
    "%%bash\n",
    "mkdir standard_MD && cd standard_MD\n",
    "cp -r ../../inputs/* .\n",
    "mkdir Box Sol EM Equil MD Topology\n",
    "mv *top Topology/.\n",
    "cd EM && cp ../mdp_files/em.mdp .\n",
    "cd ../Equil && mkdir NVT && cd NVT && cp ../../mdp_files/nvt_equil.mdp .\n",
    "cd ../ && mkdir NPT && cd NPT && cp ../../mdp_files/npt_equil.mdp .\n",
    "cd ../../MD && cp ../mdp_files/md.mdp ."
   ]
  },
  {
   "cell_type": "markdown",
   "metadata": {},
   "source": [
    "### 1. Construct the simulation box\n",
    "Here we use `sys2_init.gro` as the input file, which is the same as `simple_system2.gro` except that the box vector was removed. Normally, the GROMACS command would be as follows if the working directory is the path of this notebook:\n",
    "```\n",
    "gmx editconf -f standard_MD/sys2_init.gro -o standard_MD/Box/sys2_box.gro -bt dodecahedron -d 1 -c\n",
    "```\n",
    "Using `gmxapi`, we first create an object using `gmx.commandline_operation` and run `object.run()`:"
   ]
  },
  {
   "cell_type": "code",
   "execution_count": 3,
   "metadata": {},
   "outputs": [],
   "source": [
    "box = gmx.commandline_operation('gmx',\n",
    "                               arguments=['editconf', '-bt', 'dodecahedron', '-d', '1', '-c'],\n",
    "                               input_files={'-f': '../standard_MD/sys2_init.gro'},\n",
    "                               output_files={'-o': '../standard_MD/Box/sys2_box.gro'})\n",
    "box.run()"
   ]
  },
  {
   "cell_type": "markdown",
   "metadata": {},
   "source": [
    "Note that `box.run()` will create a folder `gmxapi.commandline.cli*_i0` and use it as the working directory, so the path to the input files and output files should be `../standard_MD/sys2_init.gro`. Additionally, if `output_files` is not specified, then the default file names will be used and the outputs will be samed in the newly created folder `gmxapi.commandline.cli*_i0`. Here, we specify the path of the output so that the folder `gmxapi.commandline.cli*_i0` will be empty after the command is finished.\n",
    "\n",
    "To check if the command was executed successfully, we can check `returncode` as follows. Additionally, we can check `stdout` and `stderr` to get more information about the output."
   ]
  },
  {
   "cell_type": "code",
   "execution_count": 4,
   "metadata": {},
   "outputs": [
    {
     "name": "stdout",
     "output_type": "stream",
     "text": [
      "Return code of the process: 0\n",
      "\n",
      "STDERR of the process:\n",
      "\n",
      "               :-) GROMACS - gmx editconf, 2021.4-plumed-2.7.3 (-:\n",
      "\n",
      "                            GROMACS is written by:\n",
      "     Andrey Alekseenko              Emile Apol              Rossen Apostolov     \n",
      "         Paul Bauer           Herman J.C. Berendsen           Par Bjelkmar       \n",
      "       Christian Blau           Viacheslav Bolnykh             Kevin Boyd        \n",
      "     Aldert van Buuren           Rudi van Drunen             Anton Feenstra      \n",
      "    Gilles Gouaillardet             Alan Gray               Gerrit Groenhof      \n",
      "       Anca Hamuraru            Vincent Hindriksen          M. Eric Irrgang      \n",
      "      Aleksei Iupinov           Christoph Junghans             Joe Jordan        \n",
      "    Dimitrios Karkoulis            Peter Kasson                Jiri Kraus        \n",
      "      Carsten Kutzner              Per Larsson              Justin A. Lemkul     \n",
      "       Viveca Lindahl            Magnus Lundborg             Erik Marklund       \n",
      "        Pascal Merz             Pieter Meulenhoff            Teemu Murtola       \n",
      "        Szilard Pall               Sander Pronk              Roland Schulz       \n",
      "       Michael Shirts            Alexey Shvetsov             Alfons Sijbers      \n",
      "       Peter Tieleman              Jon Vincent              Teemu Virolainen     \n",
      "     Christian Wennberg            Maarten Wolf              Artem Zhmurov       \n",
      "                           and the project leaders:\n",
      "        Mark Abraham, Berk Hess, Erik Lindahl, and David van der Spoel\n",
      "\n",
      "Copyright (c) 1991-2000, University of Groningen, The Netherlands.\n",
      "Copyright (c) 2001-2019, The GROMACS development team at\n",
      "Uppsala University, Stockholm University and\n",
      "the Royal Institute of Technology, Sweden.\n",
      "check out http://www.gromacs.org for more information.\n",
      "\n",
      "GROMACS is free software; you can redistribute it and/or modify it\n",
      "under the terms of the GNU Lesser General Public License\n",
      "as published by the Free Software Foundation; either version 2.1\n",
      "of the License, or (at your option) any later version.\n",
      "\n",
      "GROMACS:      gmx editconf, version 2021.4-plumed-2.7.3\n",
      "Executable:   /usr/local/gromacs/bin/gmx\n",
      "Data prefix:  /usr/local/gromacs\n",
      "Working dir:  /home/wei-tse/Documents/gmxapi_practice/gmxapi.commandline.cli0_i0\n",
      "Command line:\n",
      "  gmx editconf -bt dodecahedron -d 1 -c -f ../standard_MD/sys2_init.gro -o ../standard_MD/Box/sys2_box.gro\n",
      "\n",
      "\n",
      "WARNING: Bad box in file ../standard_MD/sys2_init.gro\n",
      "\n",
      "Generated a cubic box    0.045 x    0.232 x    0.263\n",
      "\n",
      "GROMACS reminds you: \"There is nothing new to be discovered in physics now. All that remains is more and more precise measurement.\" (Lord Kelvin, 1900)\n",
      "\n",
      "\n",
      "\n",
      "STDOUT of the process:\n",
      "\n",
      " Note that major changes are planned in future for editconf, to improve usability and utility.\n",
      "Read 4 atoms\n",
      "Volume: 0.00274572 nm^3, corresponds to roughly 0 electrons\n",
      "Velocities found\n",
      "    system size :  0.045  0.232  0.263 (nm)\n",
      "    diameter    :  0.317               (nm)\n",
      "    center      :  0.654  0.408  2.247 (nm)\n",
      "    box vectors :  0.045  0.232  0.263 (nm)\n",
      "    box angles  :  90.00  90.00  90.00 (degrees)\n",
      "    box volume  :   0.00               (nm^3)\n",
      "    shift       :  1.084  1.330 -1.428 (nm)\n",
      "new center      :  1.738  1.738  0.819 (nm)\n",
      "new box vectors :  2.317  2.317  2.317 (nm)\n",
      "new box angles  :  60.00  60.00  90.00 (degrees)\n",
      "new box volume  :   8.80               (nm^3)\n",
      "\n",
      "\n"
     ]
    }
   ],
   "source": [
    "print(f'Return code of the process: {box.output.returncode.result()}\\n')\n",
    "print(f'STDERR of the process:\\n\\n {box.output.stderr.result()}\\n')\n",
    "print(f'STDOUT of the process:\\n\\n {box.output.stdout.result()}\\n')"
   ]
  },
  {
   "cell_type": "markdown",
   "metadata": {},
   "source": [
    "We can also check the filename of the output and the flag where it was specified as follows:"
   ]
  },
  {
   "cell_type": "code",
   "execution_count": 5,
   "metadata": {},
   "outputs": [
    {
     "name": "stdout",
     "output_type": "stream",
     "text": [
      "{'-o': '/home/wei-tse/Documents/gmxapi_practice/standard_MD/Box/sys2_box.gro'}\n"
     ]
    }
   ],
   "source": [
    "print(box.output.file.result())"
   ]
  },
  {
   "cell_type": "markdown",
   "metadata": {},
   "source": [
    "### 2. Solvate the system"
   ]
  },
  {
   "cell_type": "markdown",
   "metadata": {},
   "source": [
    "Again, to solvate the system, the original GROMACS command is as follows:\n",
    "```\n",
    "gmx solvate -cp standard_MD/Box/sys2_box.gro -p standard_MD/Topology/sys2.top -o sys2_sol.gro -cs\n",
    "```\n",
    "Therefore, we can execute the command as follows. Note that now we could either explicitly specify the output file of the previous command or use the `box` object to retrieve the output filename in the last step. Also note that `box.output.file['-o']` is a `gmxapi.operation.Future` object, and `box.output.file['-o'].result()`.\n",
    "```\n",
    ">>> print(box.output.file['-o'])\n",
    "<Future: name='file', description=ResultDescription(dtype=None, width=1)>\n",
    "```"
   ]
  },
  {
   "cell_type": "code",
   "execution_count": 6,
   "metadata": {},
   "outputs": [],
   "source": [
    "solvate = gmx.commandline_operation('gmx',\n",
    "                                   arguments=['solvate', '-cs'],\n",
    "                                   input_files={\n",
    "                                       '-cp': box.output.file['-o'],\n",
    "                                       '-p': '../standard_MD/Topology/sys2.top'},\n",
    "                                   output_files={'-o': '../standard_MD/Sol/sys2_sol.gro'})\n",
    "solvate.run()"
   ]
  },
  {
   "cell_type": "code",
   "execution_count": 7,
   "metadata": {},
   "outputs": [
    {
     "name": "stdout",
     "output_type": "stream",
     "text": [
      "The process was executed successfully.\n"
     ]
    }
   ],
   "source": [
    "if solvate.output.returncode.result() != 0:\n",
    "    print(f'STDERR of the process:\\n\\n {solvate.output.stderr.result()}\\n')\n",
    "else:\n",
    "    print('The process was executed successfully.')"
   ]
  },
  {
   "cell_type": "markdown",
   "metadata": {},
   "source": [
    "### 3. Energy minimization"
   ]
  },
  {
   "cell_type": "markdown",
   "metadata": {},
   "source": [
    "Again, we run the following GROMACS commands using `gmxapi`:\n",
    "```\n",
    "gmx grompp -f standard_MD/EM/em.mdp -c standard_MD/Sol/sys2_sol.gro -p standard_MD/Topology/sys2.top -o standard_MD/EM/sys2_em.tpr\n",
    "gmx mdrun -s standard_MD/EM/sys2_em.tpr -c standard_MD/EM/sys2_em.gro -g standard_MD/EM/em.log -e standard_MD/EM/em.edr\n",
    "```"
   ]
  },
  {
   "cell_type": "code",
   "execution_count": 8,
   "metadata": {},
   "outputs": [
    {
     "name": "stdout",
     "output_type": "stream",
     "text": [
      "The process was executed successfully.\n"
     ]
    }
   ],
   "source": [
    "grompp_em = gmx.commandline_operation('gmx', \n",
    "                                     arguments=['grompp'],\n",
    "                                     input_files={\n",
    "                                         '-f': '../standard_MD/EM/em.mdp',\n",
    "                                         '-c': '../standard_MD/Sol/sys2_sol.gro',\n",
    "                                         '-p': '../standard_MD/Topology/sys2.top'},\n",
    "                                     output_files={'-o': '../standard_MD/EM/sys2_em.tpr'})\n",
    "grompp_em.run()\n",
    "if grompp_em.output.returncode.result() != 0:\n",
    "    print(f'STDERR of the process:\\n\\n {grompp_em.output.stderr.result()}\\n')\n",
    "else:\n",
    "    print('The process was executed successfully.')"
   ]
  },
  {
   "cell_type": "markdown",
   "metadata": {},
   "source": [
    "There are two ways to launch an `mdrun` command. The first way is to use `commandline_operation` as before. This time we demonstrate how one could use `grompp.output.file['-o']` as an input here. "
   ]
  },
  {
   "cell_type": "code",
   "execution_count": 9,
   "metadata": {},
   "outputs": [
    {
     "name": "stdout",
     "output_type": "stream",
     "text": [
      "The process was executed successfully.\n"
     ]
    }
   ],
   "source": [
    "em = gmx.commandline_operation('gmx',\n",
    "                              arguments=['mdrun'],\n",
    "                              input_files={'-s': grompp_em.output.file['-o']},\n",
    "                              output_files={\n",
    "                                  '-c': '../standard_MD/EM/sys2_em.gro',\n",
    "                                  '-e': '../standard_MD/EM/em.edr',\n",
    "                                  '-g': '../standard_MD/EM/em.log',\n",
    "                                  '-o': '../standard_MD/EM/em.trr'})\n",
    "em.run()\n",
    "if em.output.returncode.result() != 0:\n",
    "    print(f'STDERR of the process:\\n\\n {em.output.stderr.result()}\\n')\n",
    "else:\n",
    "    print('The process was executed successfully.')"
   ]
  },
  {
   "cell_type": "markdown",
   "metadata": {},
   "source": [
    "Another way to run a `mdrun` command using `gmxapi` is to use `gmx.mdrun`:\n",
    "```\n",
    "em_input = gmx.read_tpr(grompp_em.output.file['-o'])\n",
    "# em_modified = gmx.modify_input(input=em_input, parameters={'nsteps': 100})  # modify the parameters as needed, only work with gmx.mdrun (not gmx.commandline_operation)\n",
    "em = gmx.mdrun(input=em_input)\n",
    "em.run()\n",
    "```\n",
    "Or simply\n",
    "```\n",
    "em = gmx.mdrun(input=grompp_em.output.file['-o'])\n",
    "em.run()\n",
    "```\n",
    "Note:\n",
    "  - The argument `input` should be the tpr file and `gmx.mdrun` creates a folder named as `mdrun_*_i0_0/`.\n",
    "  - It doesn't seem that we can specify the output file names though ...\n",
    "  - In this case, we can't retrieve the return code, stdout, or stderr as before using a line like `em.output.returncode` since `em` is not the same type of object if `gmx.mdrun` is used."
   ]
  },
  {
   "cell_type": "markdown",
   "metadata": {},
   "source": [
    "### 4. Equilibration"
   ]
  },
  {
   "cell_type": "markdown",
   "metadata": {},
   "source": [
    "To run NVT and then NPT equilibration using GROMACS, we use the following commands:\n",
    "```\n",
    "gmx grompp -f standard_MD/Equil/NVT/nvt_equil.mdp -c standard_MD/EM/sys2_em.gro -p standard_MD/Topology/sys2.top -o standard_MD/Equil/NVT/sys2_equil.tpr\n",
    "gmx mdrun -s standard_MD/Equil/NVT/sys2_equil.tpr -c standard_MD/Equil/NVT/sys2_equil.gro -g standard_MD/Equil/NVT/equil.log -e standard_MD/Equil/NVT/equil.edr\n",
    "gmx grompp -f npt_equil.mdp -c ../NVT/sys2_equil.gro -t ../NVT/state.cpt -p ../../Topology/sys2.top -o sys2_equil.tpr\n",
    "gmx mdrun -s sys2_equil.tpr -c sys2_equil.gro -g equil.log -e equil.edr\n",
    "```\n",
    "Below we first define a simple function to deal with `stderr` first, and then we execute the commands above using `gmxapi`. Note that the equilibration length was very short because this notebook is just for demonstration purpose. Also note that the will be an `xtc` file output by `mdrun` but it will be saved in the newly-created folder since we don't specify it in `output_files`."
   ]
  },
  {
   "cell_type": "code",
   "execution_count": 10,
   "metadata": {},
   "outputs": [],
   "source": [
    "def gmx_output(obj):\n",
    "    if obj.output.returncode.result() != 0:\n",
    "        print(f'STDERR of the process:\\n\\n {obj.output.stderr.result()}\\n')\n",
    "    else:\n",
    "        print('The process was executed successfully.')"
   ]
  },
  {
   "cell_type": "code",
   "execution_count": 11,
   "metadata": {},
   "outputs": [
    {
     "name": "stdout",
     "output_type": "stream",
     "text": [
      "Performing NVT equilibration ...\n",
      "The process was executed successfully.\n",
      "The process was executed successfully.\n",
      "\n",
      "Performing NPT equilibration ...\n",
      "The process was executed successfully.\n",
      "The process was executed successfully.\n"
     ]
    }
   ],
   "source": [
    "print('Performing NVT equilibration ...')\n",
    "grompp_nvt = gmx.commandline_operation('gmx', \n",
    "                                     arguments=['grompp'],\n",
    "                                     input_files={\n",
    "                                         '-f': '../standard_MD/Equil/NVT/nvt_equil.mdp',\n",
    "                                         '-c': '../standard_MD/EM/sys2_em.gro',\n",
    "                                         '-p': '../standard_MD/Topology/sys2.top'},\n",
    "                                     output_files={'-o': '../standard_MD/Equil/NVT/sys2_equil.tpr'})\n",
    "grompp_nvt.run()\n",
    "gmx_output(grompp_nvt)\n",
    "    \n",
    "nvt = gmx.commandline_operation('gmx',\n",
    "                               arguments=['mdrun'],\n",
    "                               input_files={'-s': grompp_nvt.output.file['-o']},\n",
    "                               output_files={\n",
    "                                   '-c': '../standard_MD/Equil/NVT/sys2_equil.gro',\n",
    "                                   '-e': '../standard_MD/Equil/NVT/equil.edr',\n",
    "                                   '-g': '../standard_MD/Equil/NVT/equil.log',\n",
    "                                   '-o': '../standard_MD/Equil/NVT/equil.trr',\n",
    "                                   '-cpo': '../standard_MD/Equil/NVT/state.cpt'})\n",
    "nvt.run()\n",
    "gmx_output(nvt)\n",
    "    \n",
    "print('\\nPerforming NPT equilibration ...')\n",
    "grompp_npt = gmx.commandline_operation('gmx', \n",
    "                                     arguments=['grompp'],\n",
    "                                     input_files={\n",
    "                                         '-f': '../standard_MD/Equil/NPT/npt_equil.mdp',\n",
    "                                         '-c': '../standard_MD/Equil/NVT/sys2_equil.gro',\n",
    "                                         '-p': '../standard_MD/Topology/sys2.top',\n",
    "                                         '-t': '../standard_MD/Equil/NVT/state.cpt'},\n",
    "                                     output_files={'-o': '../standard_MD/Equil/NPT/sys2_equil.tpr'})\n",
    "grompp_npt.run()\n",
    "gmx_output(grompp_npt)\n",
    "    \n",
    "npt = gmx.commandline_operation('gmx',\n",
    "                               arguments=['mdrun'],\n",
    "                               input_files={'-s': grompp_npt.output.file['-o']},\n",
    "                               output_files={\n",
    "                                   '-c': '../standard_MD/Equil/NPT/sys2_equil.gro',\n",
    "                                   '-e': '../standard_MD/Equil/NPT/equil.edr',\n",
    "                                   '-g': '../standard_MD/Equil/NPT/equil.log',\n",
    "                                   '-o': '../standard_MD/Equil/NPT/equil.trr',\n",
    "                                   '-cpo': '../standard_MD/Equil/NPT/state.cpt'})\n",
    "npt.run()\n",
    "gmx_output(npt)"
   ]
  },
  {
   "cell_type": "markdown",
   "metadata": {},
   "source": [
    "### 5. Launch the simulation"
   ]
  },
  {
   "cell_type": "markdown",
   "metadata": {},
   "source": [
    "Lastly, we use the `gmxapi` to run the following commands:\n",
    "```\n",
    "gmx grompp -f standard_MD/MD/md.mdp -c standard_MD/Equil/NPT/sys2_equil.gro -p ../Topology/sys2.top -o sys2_md.tpr -t ../Equil/NPT/state.cpt\n",
    "gmx mdrun -s sys2_md.tpr -x sys2_md.xtc -c sys2_md.gro -g md.log -e md.edr\n",
    "```"
   ]
  },
  {
   "cell_type": "code",
   "execution_count": 12,
   "metadata": {},
   "outputs": [
    {
     "name": "stdout",
     "output_type": "stream",
     "text": [
      "The process was executed successfully.\n",
      "The process was executed successfully.\n"
     ]
    }
   ],
   "source": [
    "grompp_md = gmx.commandline_operation('gmx', \n",
    "                                     arguments=['grompp'],\n",
    "                                     input_files={\n",
    "                                         '-f': '../standard_MD/MD/md.mdp',\n",
    "                                         '-c': '../standard_MD/Equil/NPT/sys2_equil.gro',\n",
    "                                         '-p': '../standard_MD/Topology/sys2.top',\n",
    "                                         '-t': '../standard_MD/Equil/NPT/state.cpt'},\n",
    "                                     output_files={'-o': '../standard_MD/MD/sys2_md.tpr'})\n",
    "grompp_md.run()\n",
    "gmx_output(grompp_md)\n",
    "    \n",
    "md = gmx.commandline_operation('gmx',\n",
    "                              arguments=['mdrun'],\n",
    "                              input_files={'-s': grompp_npt.output.file['-o']},\n",
    "                              output_files={\n",
    "                                  '-c': '../standard_MD/MD/sys2_md.gro',\n",
    "                                  '-e': '../standard_MD/MD/md.edr',\n",
    "                                  '-g': '../standard_MD/MD/md.log',\n",
    "                                  '-o': '../standard_MD/MD/md.trr'})\n",
    "md.run()\n",
    "gmx_output(md)"
   ]
  },
  {
   "cell_type": "markdown",
   "metadata": {},
   "source": [
    "## Section 2. Running expanded ensemble simulations using `gmxapi`"
   ]
  },
  {
   "cell_type": "markdown",
   "metadata": {},
   "source": [
    "Here we take the output of the standard MD done in Section 1 as the input of expanded ensemble. The way we run exapnded ensemble simulations using `gmxapi` is pretty much the same as what we've done in Section 1. Here is just a section showing that `gmxapi` can also run advanced sampling methods.\n",
    "\n",
    "To make the demonstration a little more interesting, instead of running just 1 expanded ensemble, the goal of this section is to run 4 expanded ensemble at the same time to show `gmxapi`'s ability to run an emsemble of simulation. Note that in this case, the 4 simulations are independent of each other and this can only be done in `gmx.mdrun`, not `gmx.commandline_operation`.\n",
    "\n",
    "Before we get to running 4 simulations using `gmxapi`, let's first try running only 1 expanded ensemble simulation using `gmxapi`."
   ]
  },
  {
   "cell_type": "markdown",
   "metadata": {},
   "source": [
    "### 1. Running 1 expanded ensemble simulation using `gmxapi`"
   ]
  },
  {
   "cell_type": "markdown",
   "metadata": {},
   "source": [
    "Again, here we first set up relevant directory strucutres."
   ]
  },
  {
   "cell_type": "code",
   "execution_count": 13,
   "metadata": {},
   "outputs": [],
   "source": [
    "%%bash \n",
    "mkdir EE && cd EE \n",
    "mkdir case_1 case_2 && cd case_1\n",
    "cp ../../../inputs/mdp_files/expanded.mdp .\n",
    "cp ../../standard_MD/Topology/*top ."
   ]
  },
  {
   "cell_type": "code",
   "execution_count": 14,
   "metadata": {},
   "outputs": [
    {
     "name": "stdout",
     "output_type": "stream",
     "text": [
      "The process was executed successfully.\n"
     ]
    }
   ],
   "source": [
    "grompp_EE = gmx.commandline_operation('gmx', \n",
    "                                     arguments=['grompp'],\n",
    "                                     input_files={\n",
    "                                         '-f': '../EE/case_1/expanded.mdp',\n",
    "                                         '-c': '../standard_MD/MD/sys2_md.gro',\n",
    "                                         '-p': '../EE/case_1/sys2.top'},\n",
    "                                     output_files={'-o': '../EE/case_1/sys2_EE.tpr'})\n",
    "grompp_EE.run()\n",
    "gmx_output(grompp_EE)"
   ]
  },
  {
   "cell_type": "markdown",
   "metadata": {},
   "source": [
    "Note that it seems that running expanded ensemble from Jupyter notebook can easily make the notebook dead. So we write the following script `EE.py` (saved in the folder `EE/case_1`) that will be executed from the terminal.\n",
    "```python\n",
    "import sys \n",
    "sys.path.append('/home/wei-tse/gmxapi_21.4/lib/python3.7/site-packages')\n",
    "import gmxapi as gmx\n",
    "\n",
    "EE = gmx.mdrun('sys2_EE.tpr')\n",
    "EE.run()\n",
    "```"
   ]
  },
  {
   "cell_type": "code",
   "execution_count": 15,
   "metadata": {
    "scrolled": true
   },
   "outputs": [
    {
     "name": "stderr",
     "output_type": "stream",
     "text": [
      "Reading file sys2_EE.tpr, VERSION 2021.4-plumed-2.7.3 (single precision)\n",
      "Reading file /home/wei-tse/Documents/gmxapi_practice/EE/case_1/mdrun_0_i0_0/topol.tpr, VERSION 2021.4-plumed-2.7.3 (single precision)\n",
      "Reading file /home/wei-tse/Documents/gmxapi_practice/EE/case_1/mdrun_0_i0_0/topol.tpr, VERSION 2021.4-plumed-2.7.3 (single precision)\n",
      "Changing nstlist from 10 to 40, rlist from 0.9 to 0.998\n",
      "\n",
      "Using 1 MPI thread\n",
      "Using 16 OpenMP threads \n",
      "\n",
      "starting mdrun 'Generic title in water'\n",
      "10000 steps,     20.0 ps.\n",
      "\n",
      "Writing final coordinates.\n",
      "\n",
      "               Core t (s)   Wall t (s)        (%)\n",
      "       Time:      120.009        7.501     1600.0\n",
      "                 (ns/day)    (hour/ns)\n",
      "Performance:      230.403        0.104\n"
     ]
    }
   ],
   "source": [
    "%%bash \n",
    "cd EE/case_1 \n",
    "\n",
    "code=\"import sys \n",
    "sys.path.append('/home/wei-tse/gmxapi_21.4/lib/python3.7/site-packages')\n",
    "import gmxapi as gmx\n",
    "\n",
    "EE = gmx.mdrun('sys2_EE.tpr')\n",
    "EE.run()\"\n",
    "    \n",
    "echo \"${code}\" >> EE.py\n",
    "\n",
    "python EE.py"
   ]
  },
  {
   "cell_type": "markdown",
   "metadata": {},
   "source": [
    "### 2. Running 4 expanded ensemble simulations using `gmxapi`"
   ]
  },
  {
   "cell_type": "markdown",
   "metadata": {},
   "source": [
    "First of all, we set up directory structures and generate the `.tpr` files."
   ]
  },
  {
   "cell_type": "code",
   "execution_count": 16,
   "metadata": {},
   "outputs": [],
   "source": [
    "%%bash \n",
    "cd EE/case_2 \n",
    "cp ../../../inputs/mdp_files/expanded.mdp .\n",
    "cp ../../standard_MD/Topology/*top ."
   ]
  },
  {
   "cell_type": "code",
   "execution_count": 17,
   "metadata": {},
   "outputs": [
    {
     "name": "stdout",
     "output_type": "stream",
     "text": [
      "The process was executed successfully.\n",
      "The process was executed successfully.\n",
      "The process was executed successfully.\n",
      "The process was executed successfully.\n"
     ]
    }
   ],
   "source": [
    "for i in range(4):\n",
    "    grompp_EE = gmx.commandline_operation('gmx', \n",
    "                                         arguments=['grompp'],\n",
    "                                         input_files={\n",
    "                                             '-f': '../EE/case_2/expanded.mdp',\n",
    "                                             '-c': '../standard_MD/MD/sys2_md.gro',\n",
    "                                             '-p': '../EE/case_2/sys2.top'},\n",
    "                                         output_files={'-o': f'../EE/case_2/sys2_EE_{i}.tpr'})\n",
    "    grompp_EE.run()\n",
    "    gmx_output(grompp_EE)"
   ]
  },
  {
   "cell_type": "markdown",
   "metadata": {},
   "source": [
    "Similarly, in this case we will run a Python scrtip from the terminal rather than executing in a notebook cell. What's different is that this time we need MPI (e.g. `mpiexec`, `mpirun`, etc.) to run the simulations in parallel (but not communicating in our case). Here we are just using GROMACS with thread-MPI and there is no `mpirun` available, so we use `mpiexec` and `mpi4py` below.\n",
    "\n",
    "Below is the script that can be used to run multiple expanded ensemble simulations:\n",
    "```python\n",
    "import sys\n",
    "sys.path.append('/home/wei-tse/gmxapi_21.4/lib/python3.7/site-packages')\n",
    "import gmxapi as gmx\n",
    "\n",
    "tpr_list = [f'../EE/sys2_EE_{i}.tpr' for i in range(4)]\n",
    "EE_inputs = gmx.read_tpr(tpr_list)\n",
    "EE = gmx.mdrun(EE_inputs)\n",
    "EE.run()\n",
    "```"
   ]
  },
  {
   "cell_type": "code",
   "execution_count": 18,
   "metadata": {
    "scrolled": false
   },
   "outputs": [
    {
     "name": "stderr",
     "output_type": "stream",
     "text": [
      "Reading file sys2_EE_0.tpr, VERSION 2021.4-plumed-2.7.3 (single precision)\n",
      "Reading file sys2_EE_0.tpr, VERSION 2021.4-plumed-2.7.3 (single precision)\n",
      "Reading file sys2_EE_0.tpr, VERSION 2021.4-plumed-2.7.3 (single precision)\n",
      "Reading file sys2_EE_0.tpr, VERSION 2021.4-plumed-2.7.3 (single precision)\n",
      "Reading file sys2_EE_1.tpr, VERSION 2021.4-plumed-2.7.3 (single precision)\n",
      "Reading file sys2_EE_1.tpr, VERSION 2021.4-plumed-2.7.3 (single precision)\n",
      "Reading file sys2_EE_1.tpr, VERSION 2021.4-plumed-2.7.3 (single precision)\n",
      "Reading file sys2_EE_1.tpr, VERSION 2021.4-plumed-2.7.3 (single precision)\n",
      "Reading file sys2_EE_2.tpr, VERSION 2021.4-plumed-2.7.3 (single precision)\n",
      "Reading file sys2_EE_2.tpr, VERSION 2021.4-plumed-2.7.3 (single precision)\n",
      "Reading file sys2_EE_2.tpr, VERSION 2021.4-plumed-2.7.3 (single precision)\n",
      "Reading file sys2_EE_2.tpr, VERSION 2021.4-plumed-2.7.3 (single precision)\n",
      "Reading file sys2_EE_3.tpr, VERSION 2021.4-plumed-2.7.3 (single precision)\n",
      "Reading file sys2_EE_3.tpr, VERSION 2021.4-plumed-2.7.3 (single precision)\n",
      "Reading file sys2_EE_3.tpr, VERSION 2021.4-plumed-2.7.3 (single precision)\n",
      "Reading file sys2_EE_3.tpr, VERSION 2021.4-plumed-2.7.3 (single precision)\n",
      "Reading file sys2_EE_1.tpr, VERSION 2021.4-plumed-2.7.3 (single precision)\n",
      "Reading file sys2_EE_2.tpr, VERSION 2021.4-plumed-2.7.3 (single precision)\n",
      "Reading file sys2_EE_0.tpr, VERSION 2021.4-plumed-2.7.3 (single precision)\n",
      "Reading file sys2_EE_3.tpr, VERSION 2021.4-plumed-2.7.3 (single precision)\n",
      "Reading file /home/wei-tse/Documents/gmxapi_practice/EE/case_2/mdrun_0_i0_0/topol.tpr, VERSION 2021.4-plumed-2.7.3 (single precision)\n",
      "Reading file /home/wei-tse/Documents/gmxapi_practice/EE/case_2/mdrun_0_i0_1/topol.tpr, VERSION 2021.4-plumed-2.7.3 (single precision)\n",
      "Reading file /home/wei-tse/Documents/gmxapi_practice/EE/case_2/mdrun_0_i0_2/topol.tpr, VERSION 2021.4-plumed-2.7.3 (single precision)\n",
      "Reading file /home/wei-tse/Documents/gmxapi_practice/EE/case_2/mdrun_0_i0_3/topol.tpr, VERSION 2021.4-plumed-2.7.3 (single precision)\n",
      "Reading file /home/wei-tse/Documents/gmxapi_practice/EE/case_2/mdrun_0_i0_0/topol.tpr, VERSION 2021.4-plumed-2.7.3 (single precision)\n",
      "Reading file /home/wei-tse/Documents/gmxapi_practice/EE/case_2/mdrun_0_i0_1/topol.tpr, VERSION 2021.4-plumed-2.7.3 (single precision)\n",
      "Reading file /home/wei-tse/Documents/gmxapi_practice/EE/case_2/mdrun_0_i0_2/topol.tpr, VERSION 2021.4-plumed-2.7.3 (single precision)\n",
      "Reading file /home/wei-tse/Documents/gmxapi_practice/EE/case_2/mdrun_0_i0_3/topol.tpr, VERSION 2021.4-plumed-2.7.3 (single precision)\n",
      "Changing nstlist from 10 to 40, rlist from 0.9 to 0.998\n",
      "\n",
      "Using 1 MPI thread\n",
      "Changing nstlist from 10 to 40, rlist from 0.9 to 0.998\n",
      "\n",
      "Changing nstlist from 10 to 40, rlist from 0.9 to 0.998\n",
      "\n",
      "Using 1 MPI thread\n",
      "Changing nstlist from 10 to 40, rlist from 0.9 to 0.998\n",
      "\n",
      "Using 1 MPI thread\n",
      "Using 1 MPI thread\n",
      "Using 16 OpenMP threads \n",
      "\n",
      "Using 16 OpenMP threads \n",
      "\n",
      "Using 16 OpenMP threads \n",
      "\n",
      "Using 16 OpenMP threads \n",
      "\n",
      "starting mdrun 'Generic title in water'\n",
      "starting mdrun 'Generic title in water'\n",
      "10000 steps,     20.0 ps.\n",
      "10000 steps,     20.0 ps.\n",
      "starting mdrun 'Generic title in water'\n",
      "10000 steps,     20.0 ps.\n",
      "starting mdrun 'Generic title in water'\n",
      "10000 steps,     20.0 ps.\n",
      "\n",
      "Writing final coordinates.\n",
      "\n",
      "               Core t (s)   Wall t (s)        (%)\n",
      "       Time:     1795.213      112.201     1600.0\n",
      "                 (ns/day)    (hour/ns)\n",
      "Performance:       15.402        1.558\n",
      "\n",
      "Writing final coordinates.\n",
      "\n",
      "               Core t (s)   Wall t (s)        (%)\n",
      "       Time:     1815.129      113.446     1600.0\n",
      "                 (ns/day)    (hour/ns)\n",
      "Performance:       15.233        1.575\n",
      "\n",
      "Writing final coordinates.\n",
      "\n",
      "               Core t (s)   Wall t (s)        (%)\n",
      "       Time:     1920.765      120.048     1600.0\n",
      "                 (ns/day)    (hour/ns)\n",
      "Performance:       14.396        1.667\n",
      "\n",
      "Writing final coordinates.\n",
      "\n",
      "               Core t (s)   Wall t (s)        (%)\n",
      "       Time:     1957.945      122.372     1600.0\n",
      "                 (ns/day)    (hour/ns)\n",
      "Performance:       14.122        1.699\n"
     ]
    }
   ],
   "source": [
    "%%bash \n",
    "cd EE/case_2 \n",
    "\n",
    "code=\"import sys \n",
    "sys.path.append('/home/wei-tse/gmxapi_21.4/lib/python3.7/site-packages')\n",
    "import gmxapi as gmx\n",
    "\n",
    "tpr_list = [f'sys2_EE_{i}.tpr' for i in range(4)]\n",
    "EE_inputs = gmx.read_tpr(tpr_list)\n",
    "EE = gmx.mdrun(EE_inputs)\n",
    "EE.run()\"\n",
    "    \n",
    "echo \"${code}\" >> EE.py\n",
    "\n",
    "mpiexec -n 4 python3.7 -m mpi4py EE.py    # mpi4py only available in python3.7 in our case"
   ]
  },
  {
   "cell_type": "markdown",
   "metadata": {},
   "source": [
    "Upon execution, there will be 4 folders in `case_2` named in the form of `mdrun_0_i0_*`, 1 for each simulation. "
   ]
  },
  {
   "cell_type": "markdown",
   "metadata": {},
   "source": [
    "Notably, if `mpiexec` is not used (namely, if one simply runs `python EE.py`), the following error would occur:\n",
    "```python\n",
    "Traceback (most recent call last):\n",
    "  File \"EE.py\", line 8, in <module>\n",
    "    EE.run()\n",
    "  File \"/home/wei-tse/gmxapi_21.4/lib/python3.7/site-packages/gmxapi/simulation/mdrun.py\", line 690, in run\n",
    "    self.__resource_manager.update_output()\n",
    "  File \"/home/wei-tse/gmxapi_21.4/lib/python3.7/site-packages/gmxapi/simulation/mdrun.py\", line 602, in update_output\n",
    "    input = LegacyImplementationSubscription(self)\n",
    "  File \"/home/wei-tse/gmxapi_21.4/lib/python3.7/site-packages/gmxapi/simulation/mdrun.py\", line 245, in __init__\n",
    "    with scoped_communicator(context_comm, ensemble_width) as ensemble_comm:\n",
    "  File \"/home/wei-tse/anaconda3/lib/python3.7/contextlib.py\", line 112, in __enter__\n",
    "    return next(self.gen)\n",
    "  File \"/home/wei-tse/gmxapi_21.4/lib/python3.7/site-packages/gmxapi/simulation/mdrun.py\", line 175, in scoped_communicator\n",
    "    original_comm_size\n",
    "gmxapi.exceptions.FeatureNotAvailableError: Cannot produce a subcommunicator of size 4 from a communicator of size 1.\n",
    "```"
   ]
  },
  {
   "cell_type": "markdown",
   "metadata": {},
   "source": [
    "Notably, the value of `n` should at least be 4 since we have 4 simulations to run. Setting the value of `n` as 4, the performance of each simulation is around 15 ns/day, while the performance of 1 expanded ensemble simulation (using all the 16 cores) was around 240 ns/day. The parallelizing simulations here are not ideal because we ran all the simulations within 1 node. If multiple nodes are available, the scaling should be better. (In our case here, simulations with `-n` being 16 would be even slower.)"
   ]
  },
  {
   "cell_type": "markdown",
   "metadata": {},
   "source": [
    "## Section 3. Running alchemical metadynamics simulations using `gmxapi`"
   ]
  },
  {
   "cell_type": "markdown",
   "metadata": {},
   "source": [
    "Lastly, we want to see if `gmxapi` works with PLUMED, or more specifically, if `gmxapi` can run alchemical metadynamics simulations, including 1D and 2D cases. Note that here we are using a certain commit of PLUMED 2.7.3, which is the commit where the issue of alchemical metadynamics had been fixed but had not merged to the branch `v2.8` and changed the way that the mdp file should have been specified. Therefore, in this specific version of PLUMED, a mdp file for alchemical metadynamics would just be the same as the one used in expanded ensemble (weight-equilibrating phase). "
   ]
  },
  {
   "cell_type": "markdown",
   "metadata": {},
   "source": [
    "### 1. 1D alchemical metadynamics\n",
    "Again, we first set up directory structures for a 1D alchemical metadynamics simulation. "
   ]
  },
  {
   "cell_type": "code",
   "execution_count": 19,
   "metadata": {},
   "outputs": [],
   "source": [
    "%%bash \n",
    "mkdir lambda_MetaD && cd lambda_MetaD \n",
    "mkdir 1D_case 2D_case && cd 1D_case\n",
    "cp ../../../inputs/plumed_1.dat . \n",
    "cp ../../../inputs/mdp_files/expanded.mdp .\n",
    "cp ../../standard_MD/Topology/*top ."
   ]
  },
  {
   "cell_type": "code",
   "execution_count": 20,
   "metadata": {},
   "outputs": [
    {
     "name": "stdout",
     "output_type": "stream",
     "text": [
      "The process was executed successfully.\n"
     ]
    }
   ],
   "source": [
    "grompp_lambda_1 = gmx.commandline_operation('gmx', \n",
    "                                     arguments=['grompp'],\n",
    "                                     input_files={\n",
    "                                         '-f': '../lambda_MetaD/1D_case/expanded.mdp',\n",
    "                                         '-c': '../standard_MD/MD/sys2_md.gro',\n",
    "                                         '-p': '../lambda_MetaD/1D_case/sys2.top'},\n",
    "                                     output_files={'-o': '../lambda_MetaD/1D_case/sys2_lambda.tpr'})\n",
    "grompp_lambda_1.run()\n",
    "gmx_output(grompp_lambda_1)"
   ]
  },
  {
   "cell_type": "markdown",
   "metadata": {},
   "source": [
    "Similarly, we run the simulation by executing a Python script from the terminal. Note that the Python script `lambda_MetaD.py` was executed in the folder `lambda_MetaD`, so the paths of the input and output files in the script below should be changed accordingely."
   ]
  },
  {
   "cell_type": "code",
   "execution_count": 21,
   "metadata": {},
   "outputs": [
    {
     "name": "stdout",
     "output_type": "stream",
     "text": [
      "The process was executed successfully.\n"
     ]
    }
   ],
   "source": [
    "%%bash \n",
    "cd lambda_MetaD/1D_case \n",
    "\n",
    "code=\"import sys \n",
    "sys.path.append('/home/wei-tse/gmxapi_21.4/lib/python3.7/site-packages')\n",
    "import gmxapi as gmx\n",
    "\n",
    "lambda_MetaD = gmx.commandline_operation('gmx',\n",
    "                              arguments=['mdrun', '-plumed', '../plumed_1.dat'],\n",
    "                              input_files={'-s': '../sys2_lambda.tpr'},\n",
    "                              output_files={\n",
    "                                  '-c': '../sys2_lambda.gro',\n",
    "                                  '-e': '../lambda.edr',\n",
    "                                  '-g': '../lambda.log',\n",
    "                                  '-o': '../lambda.trr'})\n",
    "lambda_MetaD.run()\n",
    "\n",
    "if lambda_MetaD.output.returncode.result() != 0:\n",
    "    print(f'STDERR of the process:\\n\\n {lambda_MetaD.output.stderr.result()}\\n')\n",
    "else:\n",
    "    print('The process was executed successfully.')\"\n",
    "\n",
    "echo \"${code}\" >> lambda_MetaD.py\n",
    "\n",
    "python lambda_MetaD.py"
   ]
  },
  {
   "cell_type": "markdown",
   "metadata": {},
   "source": [
    "Nice! So `gmxapi` did work with PLUMED! (It's kind of weird that the bottom of the log file was not printed here though.) Note that since the path of the PLUMED output files can not be specified from the GROMACS command but defined in `plumed.dat`, all the PLUMED outputs will be saved in the folder `gmxapi.commandline.cli0_i0 `."
   ]
  },
  {
   "cell_type": "markdown",
   "metadata": {},
   "source": [
    "### 2. 2D alchemical metadynamics"
   ]
  },
  {
   "cell_type": "markdown",
   "metadata": {},
   "source": [
    "We repeat the protocol above but with a different PLUMED input file. Here we just want to make sure that `gmxapi` also works with 2D cases. "
   ]
  },
  {
   "cell_type": "code",
   "execution_count": 22,
   "metadata": {},
   "outputs": [],
   "source": [
    "%%bash \n",
    "cd lambda_MetaD/2D_case\n",
    "cp ../../../inputs/plumed_2.dat . \n",
    "cp ../../../inputs/mdp_files/expanded.mdp .\n",
    "cp ../../standard_MD/Topology/*top ."
   ]
  },
  {
   "cell_type": "code",
   "execution_count": 23,
   "metadata": {},
   "outputs": [
    {
     "name": "stdout",
     "output_type": "stream",
     "text": [
      "The process was executed successfully.\n"
     ]
    }
   ],
   "source": [
    "grompp_lambda_2 = gmx.commandline_operation('gmx', \n",
    "                                     arguments=['grompp'],\n",
    "                                     input_files={\n",
    "                                         '-f': '../lambda_MetaD/2D_case/expanded.mdp',\n",
    "                                         '-c': '../standard_MD/MD/sys2_md.gro',\n",
    "                                         '-p': '../lambda_MetaD/2D_case/sys2.top'},\n",
    "                                     output_files={'-o': '../lambda_MetaD/2D_case/sys2_lambda.tpr'})\n",
    "grompp_lambda_2.run()\n",
    "gmx_output(grompp_lambda_2)"
   ]
  },
  {
   "cell_type": "code",
   "execution_count": 24,
   "metadata": {},
   "outputs": [
    {
     "name": "stdout",
     "output_type": "stream",
     "text": [
      "The process was executed successfully.\n"
     ]
    }
   ],
   "source": [
    "%%bash \n",
    "cd lambda_MetaD/2D_case \n",
    "\n",
    "code=\"import sys \n",
    "sys.path.append('/home/wei-tse/gmxapi_21.4/lib/python3.7/site-packages')\n",
    "import gmxapi as gmx\n",
    "\n",
    "lambda_MetaD = gmx.commandline_operation('gmx',\n",
    "                              arguments=['mdrun', '-plumed', '../plumed_2.dat'],\n",
    "                              input_files={'-s': '../sys2_lambda.tpr'},\n",
    "                              output_files={\n",
    "                                  '-c': '../sys2_lambda.gro',\n",
    "                                  '-e': '../lambda.edr',\n",
    "                                  '-g': '../lambda.log',\n",
    "                                  '-o': '../lambda.trr'})\n",
    "lambda_MetaD.run()\n",
    "\n",
    "if lambda_MetaD.output.returncode.result() != 0:\n",
    "    print(f'STDERR of the process:\\n\\n {lambda_MetaD.output.stderr.result()}\\n')\n",
    "else:\n",
    "    print('The process was executed successfully.')\"\n",
    "\n",
    "echo \"${code}\" >> lambda_MetaD.py\n",
    "\n",
    "python lambda_MetaD.py"
   ]
  }
 ],
 "metadata": {
  "kernelspec": {
   "display_name": "Python 3",
   "language": "python",
   "name": "python3"
  },
  "language_info": {
   "codemirror_mode": {
    "name": "ipython",
    "version": 3
   },
   "file_extension": ".py",
   "mimetype": "text/x-python",
   "name": "python",
   "nbconvert_exporter": "python",
   "pygments_lexer": "ipython3",
   "version": "3.7.3"
  }
 },
 "nbformat": 4,
 "nbformat_minor": 4
}
