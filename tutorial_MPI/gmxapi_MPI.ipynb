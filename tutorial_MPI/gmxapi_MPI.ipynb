{
 "cells": [
  {
   "cell_type": "markdown",
   "metadata": {},
   "source": [
    "# `gmxapi` Practice\n",
    "In this notebook, our goal is to use `gmxapi` to run a standard MD simulation, an expanded ensemble simulaiton, and a 1D alchemical metadynamics simulation. Note that before running this notebook, one should first load in GROMACS and activate corresponding virtual environment as needed. Delete the folders like `standard_MD`, `EE`, `lambda_MetaD`, and `gmxapi.commadline.cli*_i0` if they exist. These folders will be generated later along the way. Notably, the examples set up in this notebooks are demonstrating the usage of `gmxapi` with MPI-enabled GROMACS. Readers are recommended to first look at the gmxapi tutorial for GROMCS running with thread-MPI. Here we are using an interactive node with 128 cores on Bridgees-2."
   ]
  },
  {
   "cell_type": "code",
   "execution_count": 1,
   "metadata": {},
   "outputs": [],
   "source": [
    "import sys\n",
    "sys.path.append('/jet/home/wehs7661/gmxapi_21.4/lib/python3.8/site-packages')  # might not be necessary; change the path as needed\n",
    "import gmxapi as gmx"
   ]
  },
  {
   "cell_type": "markdown",
   "metadata": {},
   "source": [
    "As a record, here we print out the version of gmxapi used:"
   ]
  },
  {
   "cell_type": "code",
   "execution_count": 2,
   "metadata": {},
   "outputs": [
    {
     "data": {
      "text/plain": [
       "'0.2.3'"
      ]
     },
     "execution_count": 2,
     "metadata": {},
     "output_type": "execute_result"
    }
   ],
   "source": [
    "gmx.__version__"
   ]
  },
  {
   "cell_type": "markdown",
   "metadata": {},
   "source": [
    "## Section 1. Running a standard MD simulation using `gmxapi`"
   ]
  },
  {
   "cell_type": "markdown",
   "metadata": {},
   "source": [
    "To get started, we set up the directories as below:"
   ]
  },
  {
   "cell_type": "code",
   "execution_count": 3,
   "metadata": {},
   "outputs": [],
   "source": [
    "%%bash\n",
    "mkdir standard_MD && cd standard_MD\n",
    "cp -r ../../inputs/sys2_init.gro .\n",
    "cp -r ../../inputs/sys2.top .\n",
    "mkdir Box Sol EM Equil MD Topology\n",
    "mv *top Topology/.\n",
    "cd EM && cp ../../../inputs/mdp_files/em.mdp .\n",
    "cd ../Equil && mkdir NVT && cd NVT && cp ../../../../inputs/mdp_files/nvt_equil.mdp .\n",
    "cd ../ && mkdir NPT && cd NPT && cp ../../../../inputs/mdp_files/npt_equil.mdp .\n",
    "cd ../../MD && cp ../../../inputs/mdp_files/md.mdp ."
   ]
  },
  {
   "cell_type": "markdown",
   "metadata": {},
   "source": [
    "### 1. Construct the simulation box\n",
    "Here we use `sys2_init.gro` as the input file, which is the same as `simple_system2.gro` except that the box vector was removed. Normally, the GROMACS command would be as follows if the working directory is the path of this notebook:\n",
    "```\n",
    "gmx_mpi editconf -f standard_MD/sys2_init.gro -o standard_MD/Box/sys2_box.gro -bt dodecahedron -d 1 -c\n",
    "```\n",
    "Using `gmxapi`, we first create an object using `gmx.commandline_operation` and run `object.run()`. And since we need to call `mpirun` externally, we write `box.py` instead of executing the command internally from Python. "
   ]
  },
  {
   "cell_type": "code",
   "execution_count": 4,
   "metadata": {},
   "outputs": [
    {
     "name": "stdout",
     "output_type": "stream",
     "text": [
      "Return code of the process: 0\n",
      "\n"
     ]
    }
   ],
   "source": [
    "%%bash\n",
    "cd standard_MD/Box/\n",
    "code=\"import sys \n",
    "# sys.path.append('/home/wei-tse/gmxapi_21.4/lib/python3.7/site-packages')  # actually not needed\n",
    "import gmxapi as gmx\n",
    "\n",
    "box = gmx.commandline_operation('gmx_mpi',\n",
    "                               arguments=['editconf', '-bt', 'dodecahedron', '-d', '1', '-c'],\n",
    "                               input_files={'-f': '../sys2_init.gro'},\n",
    "                               output_files={'-o': 'sys2_box.gro'})\n",
    "box.run()\n",
    "print(f'Return code of the process: {box.output.returncode.result()}\\n')\n",
    "if box.output.returncode.result() != 0:\n",
    "    print(f'Error of the process:\\n\\n {box.output.erroroutput.result()}')\n",
    "\"\n",
    "echo \"${code}\" >> box.py\n",
    "\n",
    "mpirun -np 1 python -m mpi4py box.py"
   ]
  },
  {
   "cell_type": "markdown",
   "metadata": {},
   "source": [
    "Unlike the case presented in the tutorial of gmxapi with GROMACS running with thread-MPI, no folders like `gmxapi.commandline.cli*_i0` is created and the working directory of the code is just where the code is. If `output_files` is not specified, the filename of the output GRO file will just be the default file name (which is `out.gro` in this case) and it will still be saved in the folder `Box`. Also, here the object does not have attributes such as `stderr` and `stdout`, but we can still check `returncode` and `erroroutput` as needed. "
   ]
  },
  {
   "cell_type": "markdown",
   "metadata": {},
   "source": [
    "### Question to address: How to print out stderr and stdout?"
   ]
  },
  {
   "cell_type": "markdown",
   "metadata": {},
   "source": [
    "### 2. Solvate the system"
   ]
  },
  {
   "cell_type": "markdown",
   "metadata": {},
   "source": [
    "Again, to solvate the system, the original GROMACS command is as follows:\n",
    "```\n",
    "gmx_mpi solvate -cp standard_MD/Box/sys2_box.gro -p standard_MD/Topology/sys2.top -o sys2_sol.gro -cs\n",
    "```\n",
    "Note that since we need to execute commands in a separate Python script, we can't retrieve the output filename from an object like `box.output`. (Or we can choose to execute all GROMACS commands in a Python script switching different working directories.) Below we write a Python script `solvate.py` in the folder `Sol`."
   ]
  },
  {
   "cell_type": "code",
   "execution_count": 5,
   "metadata": {},
   "outputs": [
    {
     "name": "stdout",
     "output_type": "stream",
     "text": [
      "Return code of the process: 0\n",
      "\n"
     ]
    }
   ],
   "source": [
    "%%bash\n",
    "cd standard_MD/Sol/\n",
    "code=\"import sys \n",
    "# sys.path.append('/home/wei-tse/gmxapi_21.4/lib/python3.7/site-packages')  # actually not needed\n",
    "import gmxapi as gmx\n",
    "\n",
    "solvate = gmx.commandline_operation('gmx_mpi',\n",
    "                                   arguments=['solvate', '-cs'],\n",
    "                                   input_files={\n",
    "                                       '-cp': '../Box/sys2_box.gro',\n",
    "                                       '-p': '../Topology/sys2.top'},\n",
    "                                   output_files={'-o': 'sys2_sol.gro'})\n",
    "solvate.run()\n",
    "print(f'Return code of the process: {solvate.output.returncode.result()}\\n')\n",
    "if solvate.output.returncode.result() != 0:\n",
    "    print(f'Error of the process:\\n\\n {solvate.output.erroroutput.result()}')\n",
    "\"\n",
    "echo \"${code}\" >> solvate.py\n",
    "\n",
    "mpirun -np 1 python -m mpi4py solvate.py"
   ]
  },
  {
   "cell_type": "markdown",
   "metadata": {},
   "source": [
    "### 3. Energy minimization"
   ]
  },
  {
   "cell_type": "markdown",
   "metadata": {},
   "source": [
    "Again, we run the following GROMACS commands using `gmxapi`:\n",
    "```\n",
    "gmx_mpi grompp -f standard_MD/EM/em.mdp -c standard_MD/Sol/sys2_sol.gro -p standard_MD/Topology/sys2.top -o standard_MD/EM/sys2_em.tpr\n",
    "gmx_mpi mdrun -s standard_MD/EM/sys2_em.tpr -c standard_MD/EM/sys2_em.gro -g standard_MD/EM/em.log -e standard_MD/EM/em.edr\n",
    "```\n",
    "Notably, with MPI-enabled, the first command only requires 1 core to run, while the second often requires multiple. On Bridges-2, we typically use `-np 64` or `-np 128`. Therefore, we need to separate Python scripts for these two commands such that we can execute them with different numbers of processors. "
   ]
  },
  {
   "cell_type": "code",
   "execution_count": 6,
   "metadata": {},
   "outputs": [
    {
     "name": "stdout",
     "output_type": "stream",
     "text": [
      "Return code of the process: 0\n",
      "\n"
     ]
    }
   ],
   "source": [
    "%%bash\n",
    "cd standard_MD/EM/\n",
    "code=\"import sys \n",
    "# sys.path.append('/home/wei-tse/gmxapi_21.4/lib/python3.7/site-packages')  # actually not needed\n",
    "import gmxapi as gmx\n",
    "\n",
    "grompp_em = gmx.commandline_operation('gmx_mpi', \n",
    "                                     arguments=['grompp'],\n",
    "                                     input_files={\n",
    "                                         '-f': 'em.mdp',\n",
    "                                         '-c': '../Sol/sys2_sol.gro',\n",
    "                                         '-p': '../Topology/sys2.top'},\n",
    "                                     output_files={'-o': 'sys2_em.tpr'})\n",
    "grompp_em.run()\n",
    "\n",
    "\n",
    "print(f'Return code of the process: {grompp_em.output.returncode.result()}\\n')\n",
    "if grompp_em.output.returncode.result() != 0:\n",
    "    print(f'Error of the process:\\n\\n {grompp_em.output.erroroutput.result()}')\n",
    "\"\n",
    "echo \"${code}\" >> grompp_em.py\n",
    "\n",
    "\n",
    "\n",
    "mpirun -np 1 python -m mpi4py grompp_em.py\n"
   ]
  },
  {
   "cell_type": "code",
   "execution_count": 7,
   "metadata": {},
   "outputs": [
    {
     "name": "stdout",
     "output_type": "stream",
     "text": [
      "Return code of the process: 0\n",
      "\n",
      "Return code of the process: 0\n",
      "\n",
      "Return code of the process: 0\n",
      "\n",
      "Return code of the process: 0\n",
      "\n",
      "Return code of the process: 0\n",
      "\n",
      "Return code of the process: 0\n",
      "\n",
      "Return code of the process: 0\n",
      "\n",
      "Return code of the process: 0\n",
      "\n",
      "Return code of the process: 0\n",
      "\n",
      "Return code of the process: 0\n",
      "\n",
      "Return code of the process: 0\n",
      "\n",
      "Return code of the process: 0\n",
      "\n",
      "Return code of the process: 0\n",
      "\n",
      "Return code of the process: 0\n",
      "\n",
      "Return code of the process: 0\n",
      "\n",
      "Return code of the process: 0\n",
      "\n",
      "Return code of the process: 0\n",
      "\n",
      "Return code of the process: 0\n",
      "\n",
      "Return code of the process: 0\n",
      "\n",
      "Return code of the process: 0\n",
      "\n",
      "Return code of the process: 0\n",
      "\n",
      "Return code of the process: 0\n",
      "\n",
      "Return code of the process: 0\n",
      "\n",
      "Return code of the process: 0\n",
      "\n",
      "Return code of the process: 0\n",
      "\n",
      "Return code of the process: 0\n",
      "\n",
      "Return code of the process: 0\n",
      "\n",
      "Return code of the process: 0\n",
      "\n",
      "Return code of the process: 0\n",
      "\n",
      "Return code of the process: 0\n",
      "\n",
      "Return code of the process: 0\n",
      "\n",
      "Return code of the process: 0\n",
      "\n",
      "Return code of the process: 0\n",
      "\n",
      "Return code of the process: 0\n",
      "\n",
      "Return code of the process: 0\n",
      "\n",
      "Return code of the process: 0\n",
      "\n",
      "Return code of the process: 0\n",
      "\n",
      "Return code of the process: 0\n",
      "\n",
      "Return code of the process: 0\n",
      "\n",
      "Return code of the process: 0\n",
      "\n",
      "Return code of the process: 0\n",
      "\n",
      "Return code of the process: 0\n",
      "\n",
      "Return code of the process: 0\n",
      "\n",
      "Return code of the process: 0\n",
      "\n",
      "Return code of the process: 0\n",
      "\n",
      "Return code of the process: 0\n",
      "\n",
      "Return code of the process: 0\n",
      "\n",
      "Return code of the process: 0\n",
      "\n",
      "Return code of the process: 0\n",
      "\n",
      "Return code of the process: 0\n",
      "\n",
      "Return code of the process: 0\n",
      "\n",
      "Return code of the process: 0\n",
      "\n",
      "Return code of the process: 0\n",
      "\n",
      "Return code of the process: 0\n",
      "\n",
      "Return code of the process: 0\n",
      "\n",
      "Return code of the process: 0\n",
      "\n",
      "Return code of the process: 0\n",
      "\n",
      "Return code of the process: 0\n",
      "\n",
      "Return code of the process: 0\n",
      "\n",
      "Return code of the process: 0\n",
      "\n",
      "Return code of the process: 0\n",
      "\n",
      "Return code of the process: 0\n",
      "\n",
      "Return code of the process: 0\n",
      "\n",
      "Return code of the process: 0\n",
      "\n"
     ]
    }
   ],
   "source": [
    "%%bash\n",
    "cd standard_MD/EM/\n",
    "\n",
    "code=\"import sys \n",
    "# sys.path.append('/home/wei-tse/gmxapi_21.4/lib/python3.7/site-packages')  # actually not needed\n",
    "import gmxapi as gmx\n",
    "\n",
    "em = gmx.commandline_operation('gmx_mpi',\n",
    "                              arguments=['mdrun'],\n",
    "                              input_files={'-s': 'sys2_em.tpr'},\n",
    "                              output_files={\n",
    "                                  '-c': 'sys2_em.gro',\n",
    "                                  '-e': 'em.edr',\n",
    "                                  '-g': 'em.log',\n",
    "                                  '-o': 'em.trr'})\n",
    "em.run()\n",
    "print(f'Return code of the process: {em.output.returncode.result()}\\n')\n",
    "if em.output.returncode.result() != 0:\n",
    "    print(f'Error of the process:\\n\\n {em.output.erroroutput.result()}')\n",
    "\"\n",
    "echo \"${code}\" >> em.py\n",
    "\n",
    "mpirun -np 64 python -m mpi4py em.py"
   ]
  },
  {
   "cell_type": "markdown",
   "metadata": {},
   "source": [
    "### 4. Equilibration"
   ]
  },
  {
   "cell_type": "markdown",
   "metadata": {},
   "source": [
    "To run NVT and then NPT equilibration using GROMACS, we use the following commands:\n",
    "```\n",
    "gmx_mpi grompp -f standard_MD/Equil/NVT/nvt_equil.mdp -c standard_MD/EM/sys2_em.gro -p standard_MD/Topology/sys2.top -o standard_MD/Equil/NVT/sys2_equil.tpr\n",
    "gmx_mpi mdrun -s standard_MD/Equil/NVT/sys2_equil.tpr -c standard_MD/Equil/NVT/sys2_equil.gro -g standard_MD/Equil/NVT/equil.log -e standard_MD/Equil/NVT/equil.edr\n",
    "gmx_mpi grompp -f npt_equil.mdp -c ../NVT/sys2_equil.gro -t ../NVT/state.cpt -p ../../Topology/sys2.top -o sys2_equil.tpr\n",
    "gmx_mpi mdrun -s sys2_equil.tpr -c sys2_equil.gro -g equil.log -e equil.edr\n",
    "```"
   ]
  },
  {
   "cell_type": "code",
   "execution_count": 8,
   "metadata": {},
   "outputs": [
    {
     "name": "stdout",
     "output_type": "stream",
     "text": [
      "Return code of the process: 0\n",
      "\n"
     ]
    }
   ],
   "source": [
    "%%bash\n",
    "cd standard_MD/Equil/NVT/\n",
    "\n",
    "code=\"import sys \n",
    "import gmxapi as gmx\n",
    "\n",
    "grompp_nvt = gmx.commandline_operation('gmx_mpi', \n",
    "                                     arguments=['grompp'],\n",
    "                                     input_files={\n",
    "                                         '-f': 'nvt_equil.mdp',\n",
    "                                         '-c': '../../EM/sys2_em.gro',\n",
    "                                         '-p': '../../Topology/sys2.top'},\n",
    "                                     output_files={'-o': 'sys2_equil.tpr'})\n",
    "grompp_nvt.run()\n",
    "print(f'Return code of the process: {grompp_nvt.output.returncode.result()}\\n')\n",
    "if grompp_nvt.output.returncode.result() != 0:\n",
    "    print(f'Error of the process:\\n\\n {grompp_nvt.output.erroroutput.result()}')\n",
    "\"\n",
    "echo \"${code}\" >> grompp_nvt.py\n",
    "\n",
    "mpirun -np 1 python -m mpi4py grompp_nvt.py"
   ]
  },
  {
   "cell_type": "code",
   "execution_count": 9,
   "metadata": {},
   "outputs": [
    {
     "name": "stdout",
     "output_type": "stream",
     "text": [
      "Return code of the process: 0\n",
      "\n",
      "Return code of the process: 0\n",
      "\n",
      "Return code of the process: 0\n",
      "\n",
      "Return code of the process: 0\n",
      "\n",
      "Return code of the process: 0\n",
      "\n",
      "Return code of the process: 0\n",
      "\n",
      "Return code of the process: 0\n",
      "\n",
      "Return code of the process: 0\n",
      "\n",
      "Return code of the process: 0\n",
      "\n",
      "Return code of the process: 0\n",
      "\n",
      "Return code of the process: 0\n",
      "\n",
      "Return code of the process: 0\n",
      "\n",
      "Return code of the process: 0\n",
      "\n",
      "Return code of the process: 0\n",
      "\n",
      "Return code of the process: 0\n",
      "\n",
      "Return code of the process: 0\n",
      "\n"
     ]
    }
   ],
   "source": [
    "%%bash\n",
    "cd standard_MD/Equil/NVT/\n",
    "\n",
    "code=\"import sys \n",
    "import gmxapi as gmx\n",
    "\n",
    "nvt = gmx.commandline_operation('gmx_mpi',\n",
    "                               arguments=['mdrun'],\n",
    "                               input_files={'-s': 'sys2_equil.tpr'},\n",
    "                               output_files={\n",
    "                                   '-c': 'sys2_equil.gro',\n",
    "                                   '-e': 'equil.edr',\n",
    "                                   '-g': 'equil.log',\n",
    "                                   '-o': 'equil.trr',\n",
    "                                   '-cpo': 'state.cpt'})\n",
    "nvt.run()\n",
    "print(f'Return code of the process: {nvt.output.returncode.result()}\\n')\n",
    "if nvt.output.returncode.result() != 0:\n",
    "    print(f'Error of the process:\\n\\n {nvt.output.erroroutput.result()}')\n",
    "\"\n",
    "echo \"${code}\" >> nvt.py\n",
    "\n",
    "mpirun -np 16 python -m mpi4py nvt.py"
   ]
  },
  {
   "cell_type": "code",
   "execution_count": 10,
   "metadata": {},
   "outputs": [
    {
     "name": "stdout",
     "output_type": "stream",
     "text": [
      "Return code of the process: 0\n",
      "\n"
     ]
    }
   ],
   "source": [
    "%%bash\n",
    "cd standard_MD/Equil/NPT/\n",
    "\n",
    "code=\"import sys \n",
    "import gmxapi as gmx\n",
    "\n",
    "grompp_npt = gmx.commandline_operation('gmx_mpi', \n",
    "                                     arguments=['grompp'],\n",
    "                                     input_files={\n",
    "                                         '-f': 'npt_equil.mdp',\n",
    "                                         '-c': '../NVT/sys2_equil.gro',\n",
    "                                         '-p': '../../Topology/sys2.top',\n",
    "                                         '-t': '../NVT/state.cpt'},\n",
    "                                     output_files={'-o': 'sys2_equil.tpr'})\n",
    "grompp_npt.run()\n",
    "print(f'Return code of the process: {grompp_npt.output.returncode.result()}\\n')\n",
    "if grompp_npt.output.returncode.result() != 0:\n",
    "    print(f'Error of the process:\\n\\n {grompp_npt.output.erroroutput.result()}')\n",
    "\"\n",
    "echo \"${code}\" >> grompp_npt.py\n",
    "\n",
    "mpirun -np 1 python -m mpi4py grompp_npt.py"
   ]
  },
  {
   "cell_type": "code",
   "execution_count": 11,
   "metadata": {},
   "outputs": [
    {
     "name": "stdout",
     "output_type": "stream",
     "text": [
      "Return code of the process: 0\n",
      "\n",
      "Return code of the process: 0\n",
      "\n",
      "Return code of the process: 0\n",
      "\n",
      "Return code of the process: 0\n",
      "\n",
      "Return code of the process: 0\n",
      "\n",
      "Return code of the process: 0\n",
      "\n",
      "Return code of the process: 0\n",
      "\n",
      "Return code of the process: 0\n",
      "\n",
      "Return code of the process: 0\n",
      "\n",
      "Return code of the process: 0\n",
      "\n",
      "Return code of the process: 0\n",
      "\n",
      "Return code of the process: 0\n",
      "\n",
      "Return code of the process: 0\n",
      "\n",
      "Return code of the process: 0\n",
      "\n",
      "Return code of the process: 0\n",
      "\n",
      "Return code of the process: 0\n",
      "\n"
     ]
    }
   ],
   "source": [
    "%%bash\n",
    "cd standard_MD/Equil/NPT/\n",
    "\n",
    "code=\"import sys \n",
    "import gmxapi as gmx\n",
    "\n",
    "npt = gmx.commandline_operation('gmx_mpi',\n",
    "                               arguments=['mdrun'],\n",
    "                               input_files={'-s': 'sys2_equil.tpr'},\n",
    "                               output_files={\n",
    "                                   '-c': 'sys2_equil.gro',\n",
    "                                   '-e': 'equil.edr',\n",
    "                                   '-g': 'equil.log',\n",
    "                                   '-o': 'equil.trr',\n",
    "                                   '-cpo': 'state.cpt'})\n",
    "npt.run()\n",
    "print(f'Return code of the process: {npt.output.returncode.result()}\\n')\n",
    "if npt.output.returncode.result() != 0:\n",
    "    print(f'Error of the process:\\n\\n {npt.output.erroroutput.result()}')\n",
    "\"\n",
    "echo \"${code}\" >> npt.py\n",
    "\n",
    "mpirun -np 16 python -m mpi4py npt.py"
   ]
  },
  {
   "cell_type": "markdown",
   "metadata": {},
   "source": [
    "### 5. Launch the simulation"
   ]
  },
  {
   "cell_type": "markdown",
   "metadata": {},
   "source": [
    "Lastly, we use the `gmxapi` to run the following commands:\n",
    "```\n",
    "gmx_mpi grompp -f standard_MD/MD/md.mdp -c standard_MD/Equil/NPT/sys2_equil.gro -p ../Topology/sys2.top -o sys2_md.tpr -t ../Equil/NPT/state.cpt\n",
    "gmx_mpi mdrun -s sys2_md.tpr -x sys2_md.xtc -c sys2_md.gro -g md.log -e md.edr\n",
    "```"
   ]
  },
  {
   "cell_type": "code",
   "execution_count": 12,
   "metadata": {},
   "outputs": [
    {
     "name": "stdout",
     "output_type": "stream",
     "text": [
      "Return code of the process: 0\n",
      "\n"
     ]
    }
   ],
   "source": [
    "%%bash\n",
    "cd standard_MD/MD/\n",
    "\n",
    "code=\"import sys \n",
    "import gmxapi as gmx\n",
    "\n",
    "grompp_md = gmx.commandline_operation('gmx_mpi', \n",
    "                                     arguments=['grompp'],\n",
    "                                     input_files={\n",
    "                                         '-f': 'md.mdp',\n",
    "                                         '-c': '../Equil/NPT/sys2_equil.gro',\n",
    "                                         '-p': '../Topology/sys2.top',\n",
    "                                         '-t': '../Equil/NPT/state.cpt'},\n",
    "                                     output_files={'-o': 'sys2_md.tpr'})\n",
    "grompp_md.run()\n",
    "print(f'Return code of the process: {grompp_md.output.returncode.result()}\\n')\n",
    "if grompp_md.output.returncode.result() != 0:\n",
    "    print(f'Error of the process:\\n\\n {grompp_md.output.erroroutput.result()}')\n",
    "\"\n",
    "echo \"${code}\" >> grompp_md.py\n",
    "\n",
    "mpirun -np 1 python -m mpi4py grompp_md.py"
   ]
  },
  {
   "cell_type": "code",
   "execution_count": 13,
   "metadata": {},
   "outputs": [
    {
     "name": "stdout",
     "output_type": "stream",
     "text": [
      "Return code of the process: 0\n",
      "\n",
      "Return code of the process: 0\n",
      "\n",
      "Return code of the process: 0\n",
      "\n",
      "Return code of the process: 0\n",
      "\n",
      "Return code of the process: 0\n",
      "\n",
      "Return code of the process: 0\n",
      "\n",
      "Return code of the process: 0\n",
      "\n",
      "Return code of the process: 0\n",
      "\n",
      "Return code of the process: 0\n",
      "\n",
      "Return code of the process: 0\n",
      "\n",
      "Return code of the process: 0\n",
      "\n",
      "Return code of the process: 0\n",
      "\n",
      "Return code of the process: 0\n",
      "\n",
      "Return code of the process: 0\n",
      "\n",
      "Return code of the process: 0\n",
      "\n",
      "Return code of the process: 0\n",
      "\n"
     ]
    }
   ],
   "source": [
    "%%bash\n",
    "cd standard_MD/MD\n",
    "\n",
    "code=\"import sys \n",
    "import gmxapi as gmx\n",
    "\n",
    "md = gmx.commandline_operation('gmx_mpi',\n",
    "                              arguments=['mdrun'],\n",
    "                              input_files={'-s': 'sys2_md.tpr'},\n",
    "                              output_files={\n",
    "                                  '-c': 'sys2_md.gro',\n",
    "                                  '-e': 'md.edr',\n",
    "                                  '-g': 'md.log',\n",
    "                                  '-o': 'md.trr'})\n",
    "md.run()\n",
    "print(f'Return code of the process: {md.output.returncode.result()}\\n')\n",
    "if md.output.returncode.result() != 0:\n",
    "    print(f'Error of the process:\\n\\n {md.output.erroroutput.result()}')\n",
    "\"\n",
    "echo \"${code}\" >> md.py\n",
    "\n",
    "mpirun -np 16 python -m mpi4py md.py"
   ]
  },
  {
   "cell_type": "markdown",
   "metadata": {},
   "source": [
    "## Section 2. Running expanded ensemble simulations using `gmxapi`"
   ]
  },
  {
   "cell_type": "markdown",
   "metadata": {},
   "source": [
    "Here we take the output of the standard MD done in Section 1 as the input of expanded ensemble. The way we run exapnded ensemble simulations using `gmxapi` is pretty much the same as what we've done in Section 1. Here is just a section showing that `gmxapi` can also run advanced sampling methods.\n",
    "\n",
    "To make the demonstration a little more interesting, instead of running just 1 expanded ensemble, the goal of this section is to run 16 expanded ensemble at the same time to show `gmxapi`'s ability to run an emsemble of simulation. Note that in this case, the 16 simulations are independent of each other and this can only be done in `gmx.mdrun`, not `gmx.commandline_operation`."
   ]
  },
  {
   "cell_type": "markdown",
   "metadata": {},
   "source": [
    "Again, here we first set up relevant directory strucutres."
   ]
  },
  {
   "cell_type": "code",
   "execution_count": 3,
   "metadata": {},
   "outputs": [],
   "source": [
    "%%bash \n",
    "mkdir EE && cd EE \n",
    "mkdir case_1 case_2\n",
    "cp ../../inputs/mdp_files/expanded.mdp .\n",
    "cp ../standard_MD/Topology/*top ."
   ]
  },
  {
   "cell_type": "markdown",
   "metadata": {},
   "source": [
    "Then, we use `grompp` to generate the input `tpr` file."
   ]
  },
  {
   "cell_type": "code",
   "execution_count": 4,
   "metadata": {},
   "outputs": [
    {
     "name": "stdout",
     "output_type": "stream",
     "text": [
      "Return code of the process: 0\n",
      "\n"
     ]
    }
   ],
   "source": [
    "%%bash\n",
    "cd EE/\n",
    "\n",
    "code=\"import sys \n",
    "import gmxapi as gmx\n",
    "\n",
    "\n",
    "grompp_EE = gmx.commandline_operation('gmx_mpi', \n",
    "                                     arguments=['grompp'],\n",
    "                                     input_files={\n",
    "                                         '-f': 'expanded.mdp',\n",
    "                                         '-c': '../standard_MD/MD/sys2_md.gro',\n",
    "                                         '-p': 'sys2.top'},\n",
    "                                     output_files={'-o': f'sys2_EE.tpr'})\n",
    "grompp_EE.run()\n",
    "print(f'Return code of the process: {grompp_EE.output.returncode.result()}\\n')\n",
    "if grompp_EE.output.returncode.result() != 0:\n",
    "    print(f'Error of the process:\\n\\n {grompp_EE.output.erroroutput.result()}')\n",
    "\"\n",
    "echo \"${code}\" >> grompp_EE.py\n",
    "\n",
    "mpirun -np 1 python -m mpi4py grompp_EE.py"
   ]
  },
  {
   "cell_type": "markdown",
   "metadata": {},
   "source": [
    "### 1. Running 1 expanded ensemble simulation using `gmxapi`"
   ]
  },
  {
   "cell_type": "markdown",
   "metadata": {},
   "source": [
    "Before we get to running 16 simulations using `gmxapi`, let's first try running only 1 expanded ensemble simulation using `gmxapi`."
   ]
  },
  {
   "cell_type": "code",
   "execution_count": 5,
   "metadata": {},
   "outputs": [
    {
     "name": "stderr",
     "output_type": "stream",
     "text": [
      "--------------------------------------------------------------------------\n",
      "A process has executed an operation involving a call to the\n",
      "\"fork()\" system call to create a child process.  Open MPI is currently\n",
      "operating in a condition that could result in memory corruption or\n",
      "other system errors; your job may hang, crash, or produce silent\n",
      "data corruption.  The use of fork() (or system() or other calls that\n",
      "create child processes) is strongly discouraged.\n",
      "\n",
      "The process that invoked fork was:\n",
      "\n",
      "  Local host:          [[31532,1],8] (PID 86801)\n",
      "\n",
      "If you are *absolutely sure* that your application will successfully\n",
      "and correctly survive a call to fork(), you may disable this warning\n",
      "by setting the mpi_warn_on_fork MCA parameter to 0.\n",
      "--------------------------------------------------------------------------\n",
      "Reading file ../sys2_EE.tpr, VERSION 2021.4-plumed-2.8.0 (single precision)\n",
      "Reading file ../sys2_EE.tpr, VERSION 2021.4-plumed-2.8.0 (single precision)\n",
      "Reading file /ocean/projects/cts160011p/wehs7661/gmxapi_practice/tutorial_MPI/EE/case_1/mdrun_0_1426908402225_0/topol.tpr, VERSION 2021.4-plumed-2.8.0 (single precision)\n",
      "[r002.ib.bridges2.psc.edu:86787] 15 more processes have sent help message help-opal-runtime.txt / opal_init:warn-fork\n",
      "[r002.ib.bridges2.psc.edu:86787] Set MCA parameter \"orte_base_help_aggregate\" to 0 to see all help / error messages\n"
     ]
    },
    {
     "name": "stdout",
     "output_type": "stream",
     "text": [
      "Process is interrupted.\n"
     ]
    }
   ],
   "source": [
    "%%bash \n",
    "cd EE/case_1\n",
    "\n",
    "code=\"import sys \n",
    "import gmxapi as gmx\n",
    "\n",
    "# tpr_list = ['../sys2_EE.tpr' for i in range(16)]  # the tpr files are the same\n",
    "EE_inputs = gmx.read_tpr('../sys2_EE.tpr')\n",
    "EE = gmx.mdrun(EE_inputs)\n",
    "EE.run()\"\n",
    "    \n",
    "echo \"${code}\" >> EE.py\n",
    "\n",
    "mpirun -np 16 python -m mpi4py EE.py "
   ]
  },
  {
   "cell_type": "code",
   "execution_count": null,
   "metadata": {},
   "outputs": [],
   "source": []
  },
  {
   "cell_type": "code",
   "execution_count": 38,
   "metadata": {},
   "outputs": [
    {
     "name": "stdout",
     "output_type": "stream",
     "text": [
      "Return code of the process: 0\n",
      "\n",
      "Return code of the process: 0\n",
      "\n",
      "Return code of the process: 0\n",
      "\n",
      "Return code of the process: 0\n",
      "\n",
      "Return code of the process: 0\n",
      "\n",
      "Return code of the process: 0\n",
      "\n",
      "Return code of the process: 0\n",
      "\n",
      "Return code of the process: 0\n",
      "\n",
      "Return code of the process: 0\n",
      "\n",
      "Return code of the process: 0\n",
      "\n",
      "Return code of the process: 0\n",
      "\n",
      "Return code of the process: 0\n",
      "\n",
      "Return code of the process: 0\n",
      "\n",
      "Return code of the process: 0\n",
      "\n",
      "Return code of the process: 0\n",
      "\n",
      "Return code of the process: 0\n",
      "\n"
     ]
    }
   ],
   "source": [
    "%%bash\n",
    "cd EE/case_1\n",
    "\n",
    "code=\"import sys \n",
    "import gmxapi as gmx\n",
    "\n",
    "EE = gmx.commandline_operation('gmx_mpi',\n",
    "                              arguments=['mdrun'],\n",
    "                              input_files={'-s': '../sys2_EE.tpr'},\n",
    "                              output_files={\n",
    "                                  '-c': '../sys2_EE.gro',\n",
    "                                  '-e': 'EE.edr',\n",
    "                                  '-g': 'EE.log',\n",
    "                                  '-o': 'EE.trr'})\n",
    "EE.run()\n",
    "print(f'Return code of the process: {EE.output.returncode.result()}\\n')\n",
    "if EE.output.returncode.result() != 0:\n",
    "    print(f'Error of the process:\\n\\n {EE.output.erroroutput.result()}')\n",
    "\"\n",
    "echo \"${code}\" >> EE.py\n",
    "\n",
    "mpirun -np 16 python -m mpi4py EE.py"
   ]
  },
  {
   "cell_type": "markdown",
   "metadata": {},
   "source": [
    "### 2. Running 16 expanded ensemble simulations using `gmxapi`"
   ]
  },
  {
   "cell_type": "code",
   "execution_count": 57,
   "metadata": {
    "scrolled": true
   },
   "outputs": [
    {
     "name": "stderr",
     "output_type": "stream",
     "text": [
      "Traceback (most recent call last):\n",
      "  File \"/opt/packages/anaconda3/lib/python3.8/runpy.py\", line 194, in _run_module_as_main\n",
      "    return _run_code(code, main_globals, None,\n",
      "  File \"/opt/packages/anaconda3/lib/python3.8/runpy.py\", line 87, in _run_code\n",
      "    exec(code, run_globals)\n",
      "  File \"/jet/home/wehs7661/gmxapi_21.4/lib/python3.8/site-packages/mpi4py/__main__.py\", line 7, in <module>\n",
      "    main()\n",
      "  File \"/jet/home/wehs7661/gmxapi_21.4/lib/python3.8/site-packages/mpi4py/run.py\", line 198, in main\n",
      "    run_command_line(args)\n",
      "  File \"/jet/home/wehs7661/gmxapi_21.4/lib/python3.8/site-packages/mpi4py/run.py\", line 47, in run_command_line\n",
      "    run_path(sys.argv[0], run_name='__main__')\n",
      "  File \"/opt/packages/anaconda3/lib/python3.8/runpy.py\", line 265, in run_path\n",
      "    return _run_module_code(code, init_globals, run_name,\n",
      "  File \"/opt/packages/anaconda3/lib/python3.8/runpy.py\", line 97, in _run_module_code\n",
      "    _run_code(code, mod_globals, init_globals,\n",
      "  File \"/opt/packages/anaconda3/lib/python3.8/runpy.py\", line 87, in _run_code\n",
      "    exec(code, run_globals)\n",
      "  File \"EE.py\", line 6, in <module>\n",
      "    EE = gmx.mdrun(EE_inputs, runtime_args={'ntomp': 1})\n",
      "TypeError: mdrun() got an unexpected keyword argument 'runtime_args'\n",
      "Traceback (most recent call last):\n",
      "  File \"/opt/packages/anaconda3/lib/python3.8/runpy.py\", line 194, in _run_module_as_main\n",
      "    return _run_code(code, main_globals, None,\n",
      "  File \"/opt/packages/anaconda3/lib/python3.8/runpy.py\", line 87, in _run_code\n",
      "    exec(code, run_globals)\n",
      "  File \"/jet/home/wehs7661/gmxapi_21.4/lib/python3.8/site-packages/mpi4py/__main__.py\", line 7, in <module>\n",
      "    main()\n",
      "  File \"/jet/home/wehs7661/gmxapi_21.4/lib/python3.8/site-packages/mpi4py/run.py\", line 198, in main\n",
      "    run_command_line(args)\n",
      "  File \"/jet/home/wehs7661/gmxapi_21.4/lib/python3.8/site-packages/mpi4py/run.py\", line 47, in run_command_line\n",
      "    run_path(sys.argv[0], run_name='__main__')\n",
      "  File \"/opt/packages/anaconda3/lib/python3.8/runpy.py\", line 265, in run_path\n",
      "    return _run_module_code(code, init_globals, run_name,\n",
      "  File \"/opt/packages/anaconda3/lib/python3.8/runpy.py\", line 97, in _run_module_code\n",
      "    _run_code(code, mod_globals, init_globals,\n",
      "  File \"/opt/packages/anaconda3/lib/python3.8/runpy.py\", line 87, in _run_code\n",
      "    exec(code, run_globals)\n",
      "  File \"EE.py\", line 6, in <module>\n",
      "    EE = gmx.mdrun(EE_inputs, runtime_args={'ntomp': 1})\n",
      "TypeError: mdrun() got an unexpected keyword argument 'runtime_args'\n",
      "Traceback (most recent call last):\n",
      "  File \"/opt/packages/anaconda3/lib/python3.8/runpy.py\", line 194, in _run_module_as_main\n",
      "    return _run_code(code, main_globals, None,\n",
      "  File \"/opt/packages/anaconda3/lib/python3.8/runpy.py\", line 87, in _run_code\n",
      "    exec(code, run_globals)\n",
      "  File \"/jet/home/wehs7661/gmxapi_21.4/lib/python3.8/site-packages/mpi4py/__main__.py\", line 7, in <module>\n",
      "    main()\n",
      "  File \"/jet/home/wehs7661/gmxapi_21.4/lib/python3.8/site-packages/mpi4py/run.py\", line 198, in main\n",
      "    run_command_line(args)\n",
      "  File \"/jet/home/wehs7661/gmxapi_21.4/lib/python3.8/site-packages/mpi4py/run.py\", line 47, in run_command_line\n",
      "    run_path(sys.argv[0], run_name='__main__')\n",
      "  File \"/opt/packages/anaconda3/lib/python3.8/runpy.py\", line 265, in run_path\n",
      "    return _run_module_code(code, init_globals, run_name,\n",
      "  File \"/opt/packages/anaconda3/lib/python3.8/runpy.py\", line 97, in _run_module_code\n",
      "    _run_code(code, mod_globals, init_globals,\n",
      "  File \"/opt/packages/anaconda3/lib/python3.8/runpy.py\", line 87, in _run_code\n",
      "    exec(code, run_globals)\n",
      "  File \"EE.py\", line 6, in <module>\n",
      "    EE = gmx.mdrun(EE_inputs, runtime_args={'ntomp': 1})\n",
      "TypeError: mdrun() got an unexpected keyword argument 'runtime_args'\n",
      "Traceback (most recent call last):\n",
      "  File \"/opt/packages/anaconda3/lib/python3.8/runpy.py\", line 194, in _run_module_as_main\n",
      "    return _run_code(code, main_globals, None,\n",
      "  File \"/opt/packages/anaconda3/lib/python3.8/runpy.py\", line 87, in _run_code\n",
      "    exec(code, run_globals)\n",
      "  File \"/jet/home/wehs7661/gmxapi_21.4/lib/python3.8/site-packages/mpi4py/__main__.py\", line 7, in <module>\n",
      "    main()\n",
      "  File \"/jet/home/wehs7661/gmxapi_21.4/lib/python3.8/site-packages/mpi4py/run.py\", line 198, in main\n",
      "    run_command_line(args)\n",
      "  File \"/jet/home/wehs7661/gmxapi_21.4/lib/python3.8/site-packages/mpi4py/run.py\", line 47, in run_command_line\n",
      "    run_path(sys.argv[0], run_name='__main__')\n",
      "  File \"/opt/packages/anaconda3/lib/python3.8/runpy.py\", line 265, in run_path\n",
      "    return _run_module_code(code, init_globals, run_name,\n",
      "  File \"/opt/packages/anaconda3/lib/python3.8/runpy.py\", line 97, in _run_module_code\n",
      "    _run_code(code, mod_globals, init_globals,\n",
      "  File \"/opt/packages/anaconda3/lib/python3.8/runpy.py\", line 87, in _run_code\n",
      "    exec(code, run_globals)\n",
      "  File \"EE.py\", line 6, in <module>\n",
      "    EE = gmx.mdrun(EE_inputs, runtime_args={'ntomp': 1})\n",
      "TypeError: mdrun() got an unexpected keyword argument 'runtime_args'\n",
      "--------------------------------------------------------------------------\n",
      "Primary job  terminated normally, but 1 process returned\n",
      "a non-zero exit code. Per user-direction, the job has been aborted.\n",
      "--------------------------------------------------------------------------\n",
      "--------------------------------------------------------------------------\n",
      "mpirun detected that one or more processes exited with non-zero status, thus causing\n",
      "the job to be terminated. The first process to do so was:\n",
      "\n",
      "  Process name: [[32788,1],0]\n",
      "  Exit code:    1\n",
      "--------------------------------------------------------------------------\n"
     ]
    },
    {
     "ename": "CalledProcessError",
     "evalue": "Command 'b'cd EE/case_2\\n\\ncode=\"import sys \\nimport gmxapi as gmx\\n\\ntpr_list = [\\'../sys2_EE.tpr\\' for i in range(16)]  # the tpr files are the same\\nEE_inputs = gmx.read_tpr(tpr_list)\\nEE = gmx.mdrun(EE_inputs, runtime_args={\\'ntomp\\': 1})\\nEE.run()\"\\n    \\necho \"${code}\" >> EE.py\\n\\nmpirun -np 16 python -m mpi4py EE.py \\n'' returned non-zero exit status 1.",
     "output_type": "error",
     "traceback": [
      "\u001b[0;31m---------------------------------------------------------------------------\u001b[0m",
      "\u001b[0;31mCalledProcessError\u001b[0m                        Traceback (most recent call last)",
      "Input \u001b[0;32mIn [57]\u001b[0m, in \u001b[0;36m<cell line: 1>\u001b[0;34m()\u001b[0m\n\u001b[0;32m----> 1\u001b[0m \u001b[43mget_ipython\u001b[49m\u001b[43m(\u001b[49m\u001b[43m)\u001b[49m\u001b[38;5;241;43m.\u001b[39;49m\u001b[43mrun_cell_magic\u001b[49m\u001b[43m(\u001b[49m\u001b[38;5;124;43m'\u001b[39;49m\u001b[38;5;124;43mbash\u001b[39;49m\u001b[38;5;124;43m'\u001b[39;49m\u001b[43m,\u001b[49m\u001b[43m \u001b[49m\u001b[38;5;124;43m'\u001b[39;49m\u001b[38;5;124;43m'\u001b[39;49m\u001b[43m,\u001b[49m\u001b[43m \u001b[49m\u001b[38;5;124;43m'\u001b[39;49m\u001b[38;5;124;43mcd EE/case_2\u001b[39;49m\u001b[38;5;130;43;01m\\n\u001b[39;49;00m\u001b[38;5;130;43;01m\\n\u001b[39;49;00m\u001b[38;5;124;43mcode=\u001b[39;49m\u001b[38;5;124;43m\"\u001b[39;49m\u001b[38;5;124;43mimport sys \u001b[39;49m\u001b[38;5;130;43;01m\\n\u001b[39;49;00m\u001b[38;5;124;43mimport gmxapi as gmx\u001b[39;49m\u001b[38;5;130;43;01m\\n\u001b[39;49;00m\u001b[38;5;130;43;01m\\n\u001b[39;49;00m\u001b[38;5;124;43mtpr_list = [\u001b[39;49m\u001b[38;5;130;43;01m\\'\u001b[39;49;00m\u001b[38;5;124;43m../sys2_EE.tpr\u001b[39;49m\u001b[38;5;130;43;01m\\'\u001b[39;49;00m\u001b[38;5;124;43m for i in range(16)]  # the tpr files are the same\u001b[39;49m\u001b[38;5;130;43;01m\\n\u001b[39;49;00m\u001b[38;5;124;43mEE_inputs = gmx.read_tpr(tpr_list)\u001b[39;49m\u001b[38;5;130;43;01m\\n\u001b[39;49;00m\u001b[38;5;124;43mEE = gmx.mdrun(EE_inputs, runtime_args=\u001b[39;49m\u001b[38;5;124;43m{\u001b[39;49m\u001b[38;5;130;43;01m\\'\u001b[39;49;00m\u001b[38;5;124;43mntomp\u001b[39;49m\u001b[38;5;130;43;01m\\'\u001b[39;49;00m\u001b[38;5;124;43m: 1})\u001b[39;49m\u001b[38;5;130;43;01m\\n\u001b[39;49;00m\u001b[38;5;124;43mEE.run()\u001b[39;49m\u001b[38;5;124;43m\"\u001b[39;49m\u001b[38;5;130;43;01m\\n\u001b[39;49;00m\u001b[38;5;124;43m    \u001b[39;49m\u001b[38;5;130;43;01m\\n\u001b[39;49;00m\u001b[38;5;124;43mecho \u001b[39;49m\u001b[38;5;124;43m\"\u001b[39;49m\u001b[38;5;124;43m$\u001b[39;49m\u001b[38;5;132;43;01m{code}\u001b[39;49;00m\u001b[38;5;124;43m\"\u001b[39;49m\u001b[38;5;124;43m >> EE.py\u001b[39;49m\u001b[38;5;130;43;01m\\n\u001b[39;49;00m\u001b[38;5;130;43;01m\\n\u001b[39;49;00m\u001b[38;5;124;43mmpirun -np 16 python -m mpi4py EE.py \u001b[39;49m\u001b[38;5;130;43;01m\\n\u001b[39;49;00m\u001b[38;5;124;43m'\u001b[39;49m\u001b[43m)\u001b[49m\n",
      "File \u001b[0;32m~/.local/lib/python3.8/site-packages/IPython/core/interactiveshell.py:2338\u001b[0m, in \u001b[0;36mInteractiveShell.run_cell_magic\u001b[0;34m(self, magic_name, line, cell)\u001b[0m\n\u001b[1;32m   2336\u001b[0m \u001b[38;5;28;01mwith\u001b[39;00m \u001b[38;5;28mself\u001b[39m\u001b[38;5;241m.\u001b[39mbuiltin_trap:\n\u001b[1;32m   2337\u001b[0m     args \u001b[38;5;241m=\u001b[39m (magic_arg_s, cell)\n\u001b[0;32m-> 2338\u001b[0m     result \u001b[38;5;241m=\u001b[39m \u001b[43mfn\u001b[49m\u001b[43m(\u001b[49m\u001b[38;5;241;43m*\u001b[39;49m\u001b[43margs\u001b[49m\u001b[43m,\u001b[49m\u001b[43m \u001b[49m\u001b[38;5;241;43m*\u001b[39;49m\u001b[38;5;241;43m*\u001b[39;49m\u001b[43mkwargs\u001b[49m\u001b[43m)\u001b[49m\n\u001b[1;32m   2339\u001b[0m \u001b[38;5;28;01mreturn\u001b[39;00m result\n",
      "File \u001b[0;32m~/.local/lib/python3.8/site-packages/IPython/core/magics/script.py:153\u001b[0m, in \u001b[0;36mScriptMagics._make_script_magic.<locals>.named_script_magic\u001b[0;34m(line, cell)\u001b[0m\n\u001b[1;32m    151\u001b[0m \u001b[38;5;28;01melse\u001b[39;00m:\n\u001b[1;32m    152\u001b[0m     line \u001b[38;5;241m=\u001b[39m script\n\u001b[0;32m--> 153\u001b[0m \u001b[38;5;28;01mreturn\u001b[39;00m \u001b[38;5;28;43mself\u001b[39;49m\u001b[38;5;241;43m.\u001b[39;49m\u001b[43mshebang\u001b[49m\u001b[43m(\u001b[49m\u001b[43mline\u001b[49m\u001b[43m,\u001b[49m\u001b[43m \u001b[49m\u001b[43mcell\u001b[49m\u001b[43m)\u001b[49m\n",
      "File \u001b[0;32m~/.local/lib/python3.8/site-packages/IPython/core/magics/script.py:305\u001b[0m, in \u001b[0;36mScriptMagics.shebang\u001b[0;34m(self, line, cell)\u001b[0m\n\u001b[1;32m    300\u001b[0m \u001b[38;5;28;01mif\u001b[39;00m args\u001b[38;5;241m.\u001b[39mraise_error \u001b[38;5;129;01mand\u001b[39;00m p\u001b[38;5;241m.\u001b[39mreturncode \u001b[38;5;241m!=\u001b[39m \u001b[38;5;241m0\u001b[39m:\n\u001b[1;32m    301\u001b[0m     \u001b[38;5;66;03m# If we get here and p.returncode is still None, we must have\u001b[39;00m\n\u001b[1;32m    302\u001b[0m     \u001b[38;5;66;03m# killed it but not yet seen its return code. We don't wait for it,\u001b[39;00m\n\u001b[1;32m    303\u001b[0m     \u001b[38;5;66;03m# in case it's stuck in uninterruptible sleep. -9 = SIGKILL\u001b[39;00m\n\u001b[1;32m    304\u001b[0m     rc \u001b[38;5;241m=\u001b[39m p\u001b[38;5;241m.\u001b[39mreturncode \u001b[38;5;129;01mor\u001b[39;00m \u001b[38;5;241m-\u001b[39m\u001b[38;5;241m9\u001b[39m\n\u001b[0;32m--> 305\u001b[0m     \u001b[38;5;28;01mraise\u001b[39;00m CalledProcessError(rc, cell)\n",
      "\u001b[0;31mCalledProcessError\u001b[0m: Command 'b'cd EE/case_2\\n\\ncode=\"import sys \\nimport gmxapi as gmx\\n\\ntpr_list = [\\'../sys2_EE.tpr\\' for i in range(16)]  # the tpr files are the same\\nEE_inputs = gmx.read_tpr(tpr_list)\\nEE = gmx.mdrun(EE_inputs, runtime_args={\\'ntomp\\': 1})\\nEE.run()\"\\n    \\necho \"${code}\" >> EE.py\\n\\nmpirun -np 16 python -m mpi4py EE.py \\n'' returned non-zero exit status 1."
     ]
    }
   ],
   "source": [
    "%%bash \n",
    "cd EE/case_2\n",
    "\n",
    "code=\"import sys \n",
    "import gmxapi as gmx\n",
    "\n",
    "tpr_list = ['../sys2_EE.tpr' for i in range(16)]  # the tpr files are the same\n",
    "EE_inputs = gmx.read_tpr(tpr_list)\n",
    "EE = gmx.mdrun(EE_inputs, runtime_args={'ntomp': 1})\n",
    "EE.run()\"\n",
    "    \n",
    "echo \"${code}\" >> EE.py\n",
    "\n",
    "mpirun -np 16 python -m mpi4py EE.py "
   ]
  },
  {
   "cell_type": "markdown",
   "metadata": {},
   "source": [
    "Notably, the value of `n` should at least be 4 since we have 4 simulations to run. Setting the value of `n` as 4, the performance of each simulation is around 15 ns/day, while the performance of 1 expanded ensemble simulation (using all the 16 cores) was around 240 ns/day. The parallelizing simulations here are not ideal because we ran all the simulations within 1 node. If multiple nodes are available, the scaling should be better. (In our case here, simulations with `-n` being 16 would be even slower.)"
   ]
  },
  {
   "cell_type": "markdown",
   "metadata": {},
   "source": [
    "## Section 3. Running alchemical metadynamics simulations using `gmxapi`"
   ]
  },
  {
   "cell_type": "markdown",
   "metadata": {},
   "source": [
    "Lastly, we want to see if `gmxapi` works with PLUMED, or more specifically, if `gmxapi` can run alchemical metadynamics simulations, including 1D and 2D cases. Note that here we are using a certain commit of PLUMED 2.7.3, which is the commit where the issue of alchemical metadynamics had been fixed but had not merged to the branch `v2.8` and changed the way that the mdp file should have been specified. Therefore, in this specific version of PLUMED, a mdp file for alchemical metadynamics would just be the same as the one used in expanded ensemble (weight-equilibrating phase). "
   ]
  },
  {
   "cell_type": "markdown",
   "metadata": {},
   "source": [
    "### 1. 1D alchemical metadynamics\n",
    "Again, we first set up directory structures for a 1D alchemical metadynamics simulation. "
   ]
  },
  {
   "cell_type": "code",
   "execution_count": 58,
   "metadata": {},
   "outputs": [],
   "source": [
    "%%bash \n",
    "mkdir lambda_MetaD && cd lambda_MetaD \n",
    "mkdir 1D_case 2D_case && cd 1D_case\n",
    "cp ../../../inputs/plumed_1.dat . \n",
    "cp ../../../inputs/mdp_files/expanded.mdp .\n",
    "cp ../../standard_MD/Topology/*top ."
   ]
  },
  {
   "cell_type": "code",
   "execution_count": 20,
   "metadata": {},
   "outputs": [
    {
     "name": "stdout",
     "output_type": "stream",
     "text": [
      "The process was executed successfully.\n"
     ]
    }
   ],
   "source": [
    "grompp_lambda_1 = gmx.commandline_operation('gmx_mpi', \n",
    "                                     arguments=['grompp'],\n",
    "                                     input_files={\n",
    "                                         '-f': '../lambda_MetaD/1D_case/expanded.mdp',\n",
    "                                         '-c': '../standard_MD/MD/sys2_md.gro',\n",
    "                                         '-p': '../lambda_MetaD/1D_case/sys2.top'},\n",
    "                                     output_files={'-o': '../lambda_MetaD/1D_case/sys2_lambda.tpr'})\n",
    "grompp_lambda_1.run()\n",
    "gmx_output(grompp_lambda_1)"
   ]
  },
  {
   "cell_type": "markdown",
   "metadata": {},
   "source": [
    "Similarly, we run the simulation by executing a Python script from the terminal. Note that the Python script `lambda_MetaD.py` was executed in the folder `lambda_MetaD`, so the paths of the input and output files in the script below should be changed accordingely."
   ]
  },
  {
   "cell_type": "code",
   "execution_count": 21,
   "metadata": {},
   "outputs": [
    {
     "name": "stdout",
     "output_type": "stream",
     "text": [
      "The process was executed successfully.\n"
     ]
    }
   ],
   "source": [
    "%%bash \n",
    "cd lambda_MetaD/1D_case \n",
    "\n",
    "code=\"import sys \n",
    "sys.path.append('/home/wei-tse/gmxapi_21.4/lib/python3.7/site-packages')\n",
    "import gmxapi as gmx\n",
    "\n",
    "lambda_MetaD = gmx.commandline_operation('gmx',\n",
    "                              arguments=['mdrun', '-plumed', '../plumed_1.dat'],\n",
    "                              input_files={'-s': '../sys2_lambda.tpr'},\n",
    "                              output_files={\n",
    "                                  '-c': '../sys2_lambda.gro',\n",
    "                                  '-e': '../lambda.edr',\n",
    "                                  '-g': '../lambda.log',\n",
    "                                  '-o': '../lambda.trr'})\n",
    "lambda_MetaD.run()\n",
    "\n",
    "if lambda_MetaD.output.returncode.result() != 0:\n",
    "    print(f'STDERR of the process:\\n\\n {lambda_MetaD.output.stderr.result()}\\n')\n",
    "else:\n",
    "    print('The process was executed successfully.')\"\n",
    "\n",
    "echo \"${code}\" >> lambda_MetaD.py\n",
    "\n",
    "python lambda_MetaD.py"
   ]
  },
  {
   "cell_type": "markdown",
   "metadata": {},
   "source": [
    "Nice! So `gmxapi` did work with PLUMED! (It's kind of weird that the bottom of the log file was not printed here though.) Note that since the path of the PLUMED output files can not be specified from the GROMACS command but defined in `plumed.dat`, all the PLUMED outputs will be saved in the folder `gmxapi.commandline.cli0_i0 `."
   ]
  },
  {
   "cell_type": "markdown",
   "metadata": {},
   "source": [
    "### 2. 2D alchemical metadynamics"
   ]
  },
  {
   "cell_type": "markdown",
   "metadata": {},
   "source": [
    "We repeat the protocol above but with a different PLUMED input file. Here we just want to make sure that `gmxapi` also works with 2D cases. "
   ]
  },
  {
   "cell_type": "code",
   "execution_count": 22,
   "metadata": {},
   "outputs": [],
   "source": [
    "%%bash \n",
    "cd lambda_MetaD/2D_case\n",
    "cp ../../../inputs/plumed_2.dat . \n",
    "cp ../../../inputs/mdp_files/expanded.mdp .\n",
    "cp ../../standard_MD/Topology/*top ."
   ]
  },
  {
   "cell_type": "code",
   "execution_count": 23,
   "metadata": {},
   "outputs": [
    {
     "name": "stdout",
     "output_type": "stream",
     "text": [
      "The process was executed successfully.\n"
     ]
    }
   ],
   "source": [
    "grompp_lambda_2 = gmx.commandline_operation('gmx', \n",
    "                                     arguments=['grompp'],\n",
    "                                     input_files={\n",
    "                                         '-f': '../lambda_MetaD/2D_case/expanded.mdp',\n",
    "                                         '-c': '../standard_MD/MD/sys2_md.gro',\n",
    "                                         '-p': '../lambda_MetaD/2D_case/sys2.top'},\n",
    "                                     output_files={'-o': '../lambda_MetaD/2D_case/sys2_lambda.tpr'})\n",
    "grompp_lambda_2.run()\n",
    "gmx_output(grompp_lambda_2)"
   ]
  },
  {
   "cell_type": "code",
   "execution_count": 24,
   "metadata": {},
   "outputs": [
    {
     "name": "stdout",
     "output_type": "stream",
     "text": [
      "The process was executed successfully.\n"
     ]
    }
   ],
   "source": [
    "%%bash \n",
    "cd lambda_MetaD/2D_case \n",
    "\n",
    "code=\"import sys \n",
    "sys.path.append('/home/wei-tse/gmxapi_21.4/lib/python3.7/site-packages')\n",
    "import gmxapi as gmx\n",
    "\n",
    "lambda_MetaD = gmx.commandline_operation('gmx',\n",
    "                              arguments=['mdrun', '-plumed', '../plumed_2.dat'],\n",
    "                              input_files={'-s': '../sys2_lambda.tpr'},\n",
    "                              output_files={\n",
    "                                  '-c': '../sys2_lambda.gro',\n",
    "                                  '-e': '../lambda.edr',\n",
    "                                  '-g': '../lambda.log',\n",
    "                                  '-o': '../lambda.trr'})\n",
    "lambda_MetaD.run()\n",
    "\n",
    "if lambda_MetaD.output.returncode.result() != 0:\n",
    "    print(f'STDERR of the process:\\n\\n {lambda_MetaD.output.stderr.result()}\\n')\n",
    "else:\n",
    "    print('The process was executed successfully.')\"\n",
    "\n",
    "echo \"${code}\" >> lambda_MetaD.py\n",
    "\n",
    "python lambda_MetaD.py"
   ]
  }
 ],
 "metadata": {
  "kernelspec": {
   "display_name": "Python 3 (ipykernel)",
   "language": "python",
   "name": "python3"
  },
  "language_info": {
   "codemirror_mode": {
    "name": "ipython",
    "version": 3
   },
   "file_extension": ".py",
   "mimetype": "text/x-python",
   "name": "python",
   "nbconvert_exporter": "python",
   "pygments_lexer": "ipython3",
   "version": "3.8.6"
  }
 },
 "nbformat": 4,
 "nbformat_minor": 4
}
